{
 "cells": [
  {
   "cell_type": "markdown",
   "id": "4ce22567",
   "metadata": {},
   "source": [
    "### Welcome to this data analysis project that analyzes the market value of most expensive footballers in 2021.\n",
    "\n",
    "#### You can also follow me on LinkedIn for posts: https://bit.ly/479O4BC "
   ]
  },
  {
   "cell_type": "markdown",
   "id": "1461f663",
   "metadata": {},
   "source": [
    "#### The project was conducted to gain insghts into the following questions\n",
    "1. How do players perform in terms of goals, assists, and other metrics?\n",
    "2. What are the most common player positions in the dataset?\n",
    "3. What is the distribution of player ages in the dataset?\n",
    "4. What is the distribution of player market values?\n",
    "5. What are the nationalities of players in the dataset?\n",
    "6. Which clubs are most represented in the dataset?\n",
    "7. How many matches have players participated in on average?\n",
    "8. What is the distribution of goals scored by players?\n",
    "9. What is the distribution of assists provided by players?\n",
    "10. How many yellow and red cards have players received on average?\n",
    "11. How many own goals have players scored on average?"
   ]
  },
  {
   "cell_type": "markdown",
   "id": "e2e9642a",
   "metadata": {},
   "source": [
    "The data set used for this project is publicly available on kaggle.com\n",
    "data sourced: https://www.kaggle.com/datasets/sanjeetsinghnaik/most-expensive-footballers-2021"
   ]
  },
  {
   "cell_type": "markdown",
   "id": "8ef47bf8",
   "metadata": {},
   "source": [
    "#### Importing Libraries"
   ]
  },
  {
   "cell_type": "code",
   "execution_count": 151,
   "id": "78f8d930",
   "metadata": {},
   "outputs": [],
   "source": [
    "import pandas as pd\n",
    "import numpy as np\n",
    "import matplotlib.pyplot as plt\n",
    "import seaborn as sns\n",
    "sns.set_style('whitegrid')\n",
    "%matplotlib inline"
   ]
  },
  {
   "cell_type": "markdown",
   "id": "0b2853e4",
   "metadata": {},
   "source": [
    "#### Load the dataset"
   ]
  },
  {
   "cell_type": "code",
   "execution_count": 152,
   "id": "f8850677",
   "metadata": {},
   "outputs": [
    {
     "data": {
      "text/html": [
       "<div>\n",
       "<style scoped>\n",
       "    .dataframe tbody tr th:only-of-type {\n",
       "        vertical-align: middle;\n",
       "    }\n",
       "\n",
       "    .dataframe tbody tr th {\n",
       "        vertical-align: top;\n",
       "    }\n",
       "\n",
       "    .dataframe thead th {\n",
       "        text-align: right;\n",
       "    }\n",
       "</style>\n",
       "<table border=\"1\" class=\"dataframe\">\n",
       "  <thead>\n",
       "    <tr style=\"text-align: right;\">\n",
       "      <th></th>\n",
       "      <th>Unnamed: 0</th>\n",
       "      <th>Name</th>\n",
       "      <th>Position</th>\n",
       "      <th>Age</th>\n",
       "      <th>Markey Value In Millions(£)</th>\n",
       "      <th>Country</th>\n",
       "      <th>Club</th>\n",
       "      <th>Matches</th>\n",
       "      <th>Goals</th>\n",
       "      <th>Own Goals</th>\n",
       "      <th>Assists</th>\n",
       "      <th>Yellow Cards</th>\n",
       "      <th>Second Yellow Cards</th>\n",
       "      <th>Red Cards</th>\n",
       "      <th>Number Of Substitute In</th>\n",
       "      <th>Number Of Substitute Out</th>\n",
       "    </tr>\n",
       "  </thead>\n",
       "  <tbody>\n",
       "    <tr>\n",
       "      <th>0</th>\n",
       "      <td>0</td>\n",
       "      <td>Kylian Mbappé</td>\n",
       "      <td>Centre-Forward</td>\n",
       "      <td>22</td>\n",
       "      <td>144.0</td>\n",
       "      <td>France</td>\n",
       "      <td>Paris Saint-Germain</td>\n",
       "      <td>16</td>\n",
       "      <td>7</td>\n",
       "      <td>0</td>\n",
       "      <td>11</td>\n",
       "      <td>3</td>\n",
       "      <td>0</td>\n",
       "      <td>0</td>\n",
       "      <td>0</td>\n",
       "      <td>8</td>\n",
       "    </tr>\n",
       "    <tr>\n",
       "      <th>1</th>\n",
       "      <td>1</td>\n",
       "      <td>Erling Haaland</td>\n",
       "      <td>Centre-Forward</td>\n",
       "      <td>21</td>\n",
       "      <td>135.0</td>\n",
       "      <td>Norway</td>\n",
       "      <td>Borussia Dortmund</td>\n",
       "      <td>10</td>\n",
       "      <td>13</td>\n",
       "      <td>0</td>\n",
       "      <td>4</td>\n",
       "      <td>1</td>\n",
       "      <td>0</td>\n",
       "      <td>0</td>\n",
       "      <td>0</td>\n",
       "      <td>1</td>\n",
       "    </tr>\n",
       "    <tr>\n",
       "      <th>2</th>\n",
       "      <td>2</td>\n",
       "      <td>Harry Kane</td>\n",
       "      <td>Centre-Forward</td>\n",
       "      <td>28</td>\n",
       "      <td>108.0</td>\n",
       "      <td>England</td>\n",
       "      <td>Tottenham Hotspur</td>\n",
       "      <td>16</td>\n",
       "      <td>7</td>\n",
       "      <td>0</td>\n",
       "      <td>2</td>\n",
       "      <td>2</td>\n",
       "      <td>0</td>\n",
       "      <td>0</td>\n",
       "      <td>2</td>\n",
       "      <td>2</td>\n",
       "    </tr>\n",
       "    <tr>\n",
       "      <th>3</th>\n",
       "      <td>3</td>\n",
       "      <td>Jack Grealish</td>\n",
       "      <td>Left Winger</td>\n",
       "      <td>26</td>\n",
       "      <td>90.0</td>\n",
       "      <td>England</td>\n",
       "      <td>Manchester City</td>\n",
       "      <td>15</td>\n",
       "      <td>2</td>\n",
       "      <td>0</td>\n",
       "      <td>3</td>\n",
       "      <td>1</td>\n",
       "      <td>0</td>\n",
       "      <td>0</td>\n",
       "      <td>2</td>\n",
       "      <td>8</td>\n",
       "    </tr>\n",
       "    <tr>\n",
       "      <th>4</th>\n",
       "      <td>4</td>\n",
       "      <td>Mohamed Salah</td>\n",
       "      <td>Right Winger</td>\n",
       "      <td>29</td>\n",
       "      <td>90.0</td>\n",
       "      <td>Egypt</td>\n",
       "      <td>Liverpool FC</td>\n",
       "      <td>15</td>\n",
       "      <td>15</td>\n",
       "      <td>0</td>\n",
       "      <td>6</td>\n",
       "      <td>1</td>\n",
       "      <td>0</td>\n",
       "      <td>0</td>\n",
       "      <td>0</td>\n",
       "      <td>3</td>\n",
       "    </tr>\n",
       "  </tbody>\n",
       "</table>\n",
       "</div>"
      ],
      "text/plain": [
       "   Unnamed: 0            Name        Position  Age  \\\n",
       "0           0   Kylian Mbappé  Centre-Forward   22   \n",
       "1           1  Erling Haaland  Centre-Forward   21   \n",
       "2           2      Harry Kane  Centre-Forward   28   \n",
       "3           3   Jack Grealish     Left Winger   26   \n",
       "4           4   Mohamed Salah    Right Winger   29   \n",
       "\n",
       "   Markey Value In Millions(£)  Country                 Club  Matches  Goals  \\\n",
       "0                        144.0   France  Paris Saint-Germain       16      7   \n",
       "1                        135.0   Norway    Borussia Dortmund       10     13   \n",
       "2                        108.0  England    Tottenham Hotspur       16      7   \n",
       "3                         90.0  England      Manchester City       15      2   \n",
       "4                         90.0    Egypt         Liverpool FC       15     15   \n",
       "\n",
       "   Own Goals  Assists  Yellow Cards  Second Yellow Cards  Red Cards  \\\n",
       "0          0       11             3                    0          0   \n",
       "1          0        4             1                    0          0   \n",
       "2          0        2             2                    0          0   \n",
       "3          0        3             1                    0          0   \n",
       "4          0        6             1                    0          0   \n",
       "\n",
       "   Number Of Substitute In  Number Of Substitute Out  \n",
       "0                        0                         8  \n",
       "1                        0                         1  \n",
       "2                        2                         2  \n",
       "3                        2                         8  \n",
       "4                        0                         3  "
      ]
     },
     "execution_count": 152,
     "metadata": {},
     "output_type": "execute_result"
    }
   ],
   "source": [
    "players = pd.read_csv('players.csv')\n",
    "players.head()"
   ]
  },
  {
   "cell_type": "markdown",
   "id": "125cc9a9",
   "metadata": {},
   "source": [
    "#### Data Preprocessing"
   ]
  },
  {
   "cell_type": "code",
   "execution_count": 153,
   "id": "e6d4bfe2",
   "metadata": {},
   "outputs": [
    {
     "data": {
      "text/html": [
       "<div>\n",
       "<style scoped>\n",
       "    .dataframe tbody tr th:only-of-type {\n",
       "        vertical-align: middle;\n",
       "    }\n",
       "\n",
       "    .dataframe tbody tr th {\n",
       "        vertical-align: top;\n",
       "    }\n",
       "\n",
       "    .dataframe thead th {\n",
       "        text-align: right;\n",
       "    }\n",
       "</style>\n",
       "<table border=\"1\" class=\"dataframe\">\n",
       "  <thead>\n",
       "    <tr style=\"text-align: right;\">\n",
       "      <th></th>\n",
       "      <th>Unnamed: 0</th>\n",
       "      <th>Name</th>\n",
       "      <th>Position</th>\n",
       "      <th>Age</th>\n",
       "      <th>Markey Value In Millions(£)</th>\n",
       "      <th>Country</th>\n",
       "      <th>Club</th>\n",
       "      <th>Matches</th>\n",
       "      <th>Goals</th>\n",
       "      <th>Own Goals</th>\n",
       "      <th>Assists</th>\n",
       "      <th>Yellow Cards</th>\n",
       "      <th>Second Yellow Cards</th>\n",
       "      <th>Red Cards</th>\n",
       "      <th>Number Of Substitute In</th>\n",
       "      <th>Number Of Substitute Out</th>\n",
       "    </tr>\n",
       "  </thead>\n",
       "  <tbody>\n",
       "    <tr>\n",
       "      <th>0</th>\n",
       "      <td>0</td>\n",
       "      <td>Kylian Mbappé</td>\n",
       "      <td>Centre-Forward</td>\n",
       "      <td>22</td>\n",
       "      <td>144.0</td>\n",
       "      <td>France</td>\n",
       "      <td>Paris Saint-Germain</td>\n",
       "      <td>16</td>\n",
       "      <td>7</td>\n",
       "      <td>0</td>\n",
       "      <td>11</td>\n",
       "      <td>3</td>\n",
       "      <td>0</td>\n",
       "      <td>0</td>\n",
       "      <td>0</td>\n",
       "      <td>8</td>\n",
       "    </tr>\n",
       "    <tr>\n",
       "      <th>1</th>\n",
       "      <td>1</td>\n",
       "      <td>Erling Haaland</td>\n",
       "      <td>Centre-Forward</td>\n",
       "      <td>21</td>\n",
       "      <td>135.0</td>\n",
       "      <td>Norway</td>\n",
       "      <td>Borussia Dortmund</td>\n",
       "      <td>10</td>\n",
       "      <td>13</td>\n",
       "      <td>0</td>\n",
       "      <td>4</td>\n",
       "      <td>1</td>\n",
       "      <td>0</td>\n",
       "      <td>0</td>\n",
       "      <td>0</td>\n",
       "      <td>1</td>\n",
       "    </tr>\n",
       "    <tr>\n",
       "      <th>2</th>\n",
       "      <td>2</td>\n",
       "      <td>Harry Kane</td>\n",
       "      <td>Centre-Forward</td>\n",
       "      <td>28</td>\n",
       "      <td>108.0</td>\n",
       "      <td>England</td>\n",
       "      <td>Tottenham Hotspur</td>\n",
       "      <td>16</td>\n",
       "      <td>7</td>\n",
       "      <td>0</td>\n",
       "      <td>2</td>\n",
       "      <td>2</td>\n",
       "      <td>0</td>\n",
       "      <td>0</td>\n",
       "      <td>2</td>\n",
       "      <td>2</td>\n",
       "    </tr>\n",
       "    <tr>\n",
       "      <th>3</th>\n",
       "      <td>3</td>\n",
       "      <td>Jack Grealish</td>\n",
       "      <td>Left Winger</td>\n",
       "      <td>26</td>\n",
       "      <td>90.0</td>\n",
       "      <td>England</td>\n",
       "      <td>Manchester City</td>\n",
       "      <td>15</td>\n",
       "      <td>2</td>\n",
       "      <td>0</td>\n",
       "      <td>3</td>\n",
       "      <td>1</td>\n",
       "      <td>0</td>\n",
       "      <td>0</td>\n",
       "      <td>2</td>\n",
       "      <td>8</td>\n",
       "    </tr>\n",
       "    <tr>\n",
       "      <th>4</th>\n",
       "      <td>4</td>\n",
       "      <td>Mohamed Salah</td>\n",
       "      <td>Right Winger</td>\n",
       "      <td>29</td>\n",
       "      <td>90.0</td>\n",
       "      <td>Egypt</td>\n",
       "      <td>Liverpool FC</td>\n",
       "      <td>15</td>\n",
       "      <td>15</td>\n",
       "      <td>0</td>\n",
       "      <td>6</td>\n",
       "      <td>1</td>\n",
       "      <td>0</td>\n",
       "      <td>0</td>\n",
       "      <td>0</td>\n",
       "      <td>3</td>\n",
       "    </tr>\n",
       "  </tbody>\n",
       "</table>\n",
       "</div>"
      ],
      "text/plain": [
       "   Unnamed: 0            Name        Position  Age  \\\n",
       "0           0   Kylian Mbappé  Centre-Forward   22   \n",
       "1           1  Erling Haaland  Centre-Forward   21   \n",
       "2           2      Harry Kane  Centre-Forward   28   \n",
       "3           3   Jack Grealish     Left Winger   26   \n",
       "4           4   Mohamed Salah    Right Winger   29   \n",
       "\n",
       "   Markey Value In Millions(£)  Country                 Club  Matches  Goals  \\\n",
       "0                        144.0   France  Paris Saint-Germain       16      7   \n",
       "1                        135.0   Norway    Borussia Dortmund       10     13   \n",
       "2                        108.0  England    Tottenham Hotspur       16      7   \n",
       "3                         90.0  England      Manchester City       15      2   \n",
       "4                         90.0    Egypt         Liverpool FC       15     15   \n",
       "\n",
       "   Own Goals  Assists  Yellow Cards  Second Yellow Cards  Red Cards  \\\n",
       "0          0       11             3                    0          0   \n",
       "1          0        4             1                    0          0   \n",
       "2          0        2             2                    0          0   \n",
       "3          0        3             1                    0          0   \n",
       "4          0        6             1                    0          0   \n",
       "\n",
       "   Number Of Substitute In  Number Of Substitute Out  \n",
       "0                        0                         8  \n",
       "1                        0                         1  \n",
       "2                        2                         2  \n",
       "3                        2                         8  \n",
       "4                        0                         3  "
      ]
     },
     "execution_count": 153,
     "metadata": {},
     "output_type": "execute_result"
    }
   ],
   "source": [
    "players.head()"
   ]
  },
  {
   "cell_type": "code",
   "execution_count": 154,
   "id": "249c9f07",
   "metadata": {},
   "outputs": [],
   "source": [
    "# Renaming column names for consistency\n",
    "\n",
    "players = players.rename(columns={'Markey Value In Millions(£)': 'Market_value', 'Own Goals': 'Own_goals',\n",
    "                                 'Yellow Cards': 'Yellow_cards', 'Second Yellow Cards': 'Second_yellow_cards',\n",
    "                                 'Red Cards': 'Red_cards', 'Number Of Substitute In': 'Substitute_in',\n",
    "                                 'Number Of Substitute Out': 'Substitute_out'})"
   ]
  },
  {
   "cell_type": "code",
   "execution_count": 155,
   "id": "8d1a20b8",
   "metadata": {},
   "outputs": [
    {
     "data": {
      "text/html": [
       "<div>\n",
       "<style scoped>\n",
       "    .dataframe tbody tr th:only-of-type {\n",
       "        vertical-align: middle;\n",
       "    }\n",
       "\n",
       "    .dataframe tbody tr th {\n",
       "        vertical-align: top;\n",
       "    }\n",
       "\n",
       "    .dataframe thead th {\n",
       "        text-align: right;\n",
       "    }\n",
       "</style>\n",
       "<table border=\"1\" class=\"dataframe\">\n",
       "  <thead>\n",
       "    <tr style=\"text-align: right;\">\n",
       "      <th></th>\n",
       "      <th>Unnamed: 0</th>\n",
       "      <th>Name</th>\n",
       "      <th>Position</th>\n",
       "      <th>Age</th>\n",
       "      <th>Market_value</th>\n",
       "      <th>Country</th>\n",
       "      <th>Club</th>\n",
       "      <th>Matches</th>\n",
       "      <th>Goals</th>\n",
       "      <th>Own_goals</th>\n",
       "      <th>Assists</th>\n",
       "      <th>Yellow_cards</th>\n",
       "      <th>Second_yellow_cards</th>\n",
       "      <th>Red_cards</th>\n",
       "      <th>Substitute_in</th>\n",
       "      <th>Substitute_out</th>\n",
       "    </tr>\n",
       "  </thead>\n",
       "  <tbody>\n",
       "    <tr>\n",
       "      <th>0</th>\n",
       "      <td>0</td>\n",
       "      <td>Kylian Mbappé</td>\n",
       "      <td>Centre-Forward</td>\n",
       "      <td>22</td>\n",
       "      <td>144.0</td>\n",
       "      <td>France</td>\n",
       "      <td>Paris Saint-Germain</td>\n",
       "      <td>16</td>\n",
       "      <td>7</td>\n",
       "      <td>0</td>\n",
       "      <td>11</td>\n",
       "      <td>3</td>\n",
       "      <td>0</td>\n",
       "      <td>0</td>\n",
       "      <td>0</td>\n",
       "      <td>8</td>\n",
       "    </tr>\n",
       "    <tr>\n",
       "      <th>1</th>\n",
       "      <td>1</td>\n",
       "      <td>Erling Haaland</td>\n",
       "      <td>Centre-Forward</td>\n",
       "      <td>21</td>\n",
       "      <td>135.0</td>\n",
       "      <td>Norway</td>\n",
       "      <td>Borussia Dortmund</td>\n",
       "      <td>10</td>\n",
       "      <td>13</td>\n",
       "      <td>0</td>\n",
       "      <td>4</td>\n",
       "      <td>1</td>\n",
       "      <td>0</td>\n",
       "      <td>0</td>\n",
       "      <td>0</td>\n",
       "      <td>1</td>\n",
       "    </tr>\n",
       "    <tr>\n",
       "      <th>2</th>\n",
       "      <td>2</td>\n",
       "      <td>Harry Kane</td>\n",
       "      <td>Centre-Forward</td>\n",
       "      <td>28</td>\n",
       "      <td>108.0</td>\n",
       "      <td>England</td>\n",
       "      <td>Tottenham Hotspur</td>\n",
       "      <td>16</td>\n",
       "      <td>7</td>\n",
       "      <td>0</td>\n",
       "      <td>2</td>\n",
       "      <td>2</td>\n",
       "      <td>0</td>\n",
       "      <td>0</td>\n",
       "      <td>2</td>\n",
       "      <td>2</td>\n",
       "    </tr>\n",
       "    <tr>\n",
       "      <th>3</th>\n",
       "      <td>3</td>\n",
       "      <td>Jack Grealish</td>\n",
       "      <td>Left Winger</td>\n",
       "      <td>26</td>\n",
       "      <td>90.0</td>\n",
       "      <td>England</td>\n",
       "      <td>Manchester City</td>\n",
       "      <td>15</td>\n",
       "      <td>2</td>\n",
       "      <td>0</td>\n",
       "      <td>3</td>\n",
       "      <td>1</td>\n",
       "      <td>0</td>\n",
       "      <td>0</td>\n",
       "      <td>2</td>\n",
       "      <td>8</td>\n",
       "    </tr>\n",
       "    <tr>\n",
       "      <th>4</th>\n",
       "      <td>4</td>\n",
       "      <td>Mohamed Salah</td>\n",
       "      <td>Right Winger</td>\n",
       "      <td>29</td>\n",
       "      <td>90.0</td>\n",
       "      <td>Egypt</td>\n",
       "      <td>Liverpool FC</td>\n",
       "      <td>15</td>\n",
       "      <td>15</td>\n",
       "      <td>0</td>\n",
       "      <td>6</td>\n",
       "      <td>1</td>\n",
       "      <td>0</td>\n",
       "      <td>0</td>\n",
       "      <td>0</td>\n",
       "      <td>3</td>\n",
       "    </tr>\n",
       "  </tbody>\n",
       "</table>\n",
       "</div>"
      ],
      "text/plain": [
       "   Unnamed: 0            Name        Position  Age  Market_value  Country  \\\n",
       "0           0   Kylian Mbappé  Centre-Forward   22         144.0   France   \n",
       "1           1  Erling Haaland  Centre-Forward   21         135.0   Norway   \n",
       "2           2      Harry Kane  Centre-Forward   28         108.0  England   \n",
       "3           3   Jack Grealish     Left Winger   26          90.0  England   \n",
       "4           4   Mohamed Salah    Right Winger   29          90.0    Egypt   \n",
       "\n",
       "                  Club  Matches  Goals  Own_goals  Assists  Yellow_cards  \\\n",
       "0  Paris Saint-Germain       16      7          0       11             3   \n",
       "1    Borussia Dortmund       10     13          0        4             1   \n",
       "2    Tottenham Hotspur       16      7          0        2             2   \n",
       "3      Manchester City       15      2          0        3             1   \n",
       "4         Liverpool FC       15     15          0        6             1   \n",
       "\n",
       "   Second_yellow_cards  Red_cards  Substitute_in  Substitute_out  \n",
       "0                    0          0              0               8  \n",
       "1                    0          0              0               1  \n",
       "2                    0          0              2               2  \n",
       "3                    0          0              2               8  \n",
       "4                    0          0              0               3  "
      ]
     },
     "execution_count": 155,
     "metadata": {},
     "output_type": "execute_result"
    }
   ],
   "source": [
    "players.head()"
   ]
  },
  {
   "cell_type": "code",
   "execution_count": 158,
   "id": "4eae5970",
   "metadata": {},
   "outputs": [],
   "source": [
    "#dropping unnamed column\n",
    "players.drop(columns=['Unnamed: 0'], axis=1, inplace=True)"
   ]
  },
  {
   "cell_type": "code",
   "execution_count": 159,
   "id": "46bdbbb9",
   "metadata": {},
   "outputs": [
    {
     "data": {
      "text/html": [
       "<div>\n",
       "<style scoped>\n",
       "    .dataframe tbody tr th:only-of-type {\n",
       "        vertical-align: middle;\n",
       "    }\n",
       "\n",
       "    .dataframe tbody tr th {\n",
       "        vertical-align: top;\n",
       "    }\n",
       "\n",
       "    .dataframe thead th {\n",
       "        text-align: right;\n",
       "    }\n",
       "</style>\n",
       "<table border=\"1\" class=\"dataframe\">\n",
       "  <thead>\n",
       "    <tr style=\"text-align: right;\">\n",
       "      <th></th>\n",
       "      <th>Name</th>\n",
       "      <th>Position</th>\n",
       "      <th>Age</th>\n",
       "      <th>Market_value</th>\n",
       "      <th>Country</th>\n",
       "      <th>Club</th>\n",
       "      <th>Matches</th>\n",
       "      <th>Goals</th>\n",
       "      <th>Own_goals</th>\n",
       "      <th>Assists</th>\n",
       "      <th>Yellow_cards</th>\n",
       "      <th>Second_yellow_cards</th>\n",
       "      <th>Red_cards</th>\n",
       "      <th>Substitute_in</th>\n",
       "      <th>Substitute_out</th>\n",
       "    </tr>\n",
       "  </thead>\n",
       "  <tbody>\n",
       "    <tr>\n",
       "      <th>0</th>\n",
       "      <td>Kylian Mbappé</td>\n",
       "      <td>Centre-Forward</td>\n",
       "      <td>22</td>\n",
       "      <td>144.0</td>\n",
       "      <td>France</td>\n",
       "      <td>Paris Saint-Germain</td>\n",
       "      <td>16</td>\n",
       "      <td>7</td>\n",
       "      <td>0</td>\n",
       "      <td>11</td>\n",
       "      <td>3</td>\n",
       "      <td>0</td>\n",
       "      <td>0</td>\n",
       "      <td>0</td>\n",
       "      <td>8</td>\n",
       "    </tr>\n",
       "    <tr>\n",
       "      <th>1</th>\n",
       "      <td>Erling Haaland</td>\n",
       "      <td>Centre-Forward</td>\n",
       "      <td>21</td>\n",
       "      <td>135.0</td>\n",
       "      <td>Norway</td>\n",
       "      <td>Borussia Dortmund</td>\n",
       "      <td>10</td>\n",
       "      <td>13</td>\n",
       "      <td>0</td>\n",
       "      <td>4</td>\n",
       "      <td>1</td>\n",
       "      <td>0</td>\n",
       "      <td>0</td>\n",
       "      <td>0</td>\n",
       "      <td>1</td>\n",
       "    </tr>\n",
       "    <tr>\n",
       "      <th>2</th>\n",
       "      <td>Harry Kane</td>\n",
       "      <td>Centre-Forward</td>\n",
       "      <td>28</td>\n",
       "      <td>108.0</td>\n",
       "      <td>England</td>\n",
       "      <td>Tottenham Hotspur</td>\n",
       "      <td>16</td>\n",
       "      <td>7</td>\n",
       "      <td>0</td>\n",
       "      <td>2</td>\n",
       "      <td>2</td>\n",
       "      <td>0</td>\n",
       "      <td>0</td>\n",
       "      <td>2</td>\n",
       "      <td>2</td>\n",
       "    </tr>\n",
       "    <tr>\n",
       "      <th>3</th>\n",
       "      <td>Jack Grealish</td>\n",
       "      <td>Left Winger</td>\n",
       "      <td>26</td>\n",
       "      <td>90.0</td>\n",
       "      <td>England</td>\n",
       "      <td>Manchester City</td>\n",
       "      <td>15</td>\n",
       "      <td>2</td>\n",
       "      <td>0</td>\n",
       "      <td>3</td>\n",
       "      <td>1</td>\n",
       "      <td>0</td>\n",
       "      <td>0</td>\n",
       "      <td>2</td>\n",
       "      <td>8</td>\n",
       "    </tr>\n",
       "    <tr>\n",
       "      <th>4</th>\n",
       "      <td>Mohamed Salah</td>\n",
       "      <td>Right Winger</td>\n",
       "      <td>29</td>\n",
       "      <td>90.0</td>\n",
       "      <td>Egypt</td>\n",
       "      <td>Liverpool FC</td>\n",
       "      <td>15</td>\n",
       "      <td>15</td>\n",
       "      <td>0</td>\n",
       "      <td>6</td>\n",
       "      <td>1</td>\n",
       "      <td>0</td>\n",
       "      <td>0</td>\n",
       "      <td>0</td>\n",
       "      <td>3</td>\n",
       "    </tr>\n",
       "  </tbody>\n",
       "</table>\n",
       "</div>"
      ],
      "text/plain": [
       "             Name        Position  Age  Market_value  Country  \\\n",
       "0   Kylian Mbappé  Centre-Forward   22         144.0   France   \n",
       "1  Erling Haaland  Centre-Forward   21         135.0   Norway   \n",
       "2      Harry Kane  Centre-Forward   28         108.0  England   \n",
       "3   Jack Grealish     Left Winger   26          90.0  England   \n",
       "4   Mohamed Salah    Right Winger   29          90.0    Egypt   \n",
       "\n",
       "                  Club  Matches  Goals  Own_goals  Assists  Yellow_cards  \\\n",
       "0  Paris Saint-Germain       16      7          0       11             3   \n",
       "1    Borussia Dortmund       10     13          0        4             1   \n",
       "2    Tottenham Hotspur       16      7          0        2             2   \n",
       "3      Manchester City       15      2          0        3             1   \n",
       "4         Liverpool FC       15     15          0        6             1   \n",
       "\n",
       "   Second_yellow_cards  Red_cards  Substitute_in  Substitute_out  \n",
       "0                    0          0              0               8  \n",
       "1                    0          0              0               1  \n",
       "2                    0          0              2               2  \n",
       "3                    0          0              2               8  \n",
       "4                    0          0              0               3  "
      ]
     },
     "execution_count": 159,
     "metadata": {},
     "output_type": "execute_result"
    }
   ],
   "source": [
    "players.head()"
   ]
  },
  {
   "cell_type": "code",
   "execution_count": 160,
   "id": "32548985",
   "metadata": {},
   "outputs": [
    {
     "data": {
      "text/plain": [
       "(500, 15)"
      ]
     },
     "execution_count": 160,
     "metadata": {},
     "output_type": "execute_result"
    }
   ],
   "source": [
    "players.shape"
   ]
  },
  {
   "cell_type": "code",
   "execution_count": 161,
   "id": "fc910136",
   "metadata": {},
   "outputs": [
    {
     "data": {
      "text/plain": [
       "RangeIndex(start=0, stop=500, step=1)"
      ]
     },
     "execution_count": 161,
     "metadata": {},
     "output_type": "execute_result"
    }
   ],
   "source": [
    "players.index"
   ]
  },
  {
   "cell_type": "code",
   "execution_count": 162,
   "id": "a6cad7c4",
   "metadata": {},
   "outputs": [
    {
     "name": "stdout",
     "output_type": "stream",
     "text": [
      "<class 'pandas.core.frame.DataFrame'>\n",
      "RangeIndex: 500 entries, 0 to 499\n",
      "Data columns (total 15 columns):\n",
      " #   Column               Non-Null Count  Dtype  \n",
      "---  ------               --------------  -----  \n",
      " 0   Name                 500 non-null    object \n",
      " 1   Position             500 non-null    object \n",
      " 2   Age                  500 non-null    int64  \n",
      " 3   Market_value         500 non-null    float64\n",
      " 4   Country              500 non-null    object \n",
      " 5   Club                 500 non-null    object \n",
      " 6   Matches              500 non-null    int64  \n",
      " 7   Goals                500 non-null    int64  \n",
      " 8   Own_goals            500 non-null    int64  \n",
      " 9   Assists              500 non-null    int64  \n",
      " 10  Yellow_cards         500 non-null    int64  \n",
      " 11  Second_yellow_cards  500 non-null    int64  \n",
      " 12  Red_cards            500 non-null    int64  \n",
      " 13  Substitute_in        500 non-null    int64  \n",
      " 14  Substitute_out       500 non-null    int64  \n",
      "dtypes: float64(1), int64(10), object(4)\n",
      "memory usage: 58.7+ KB\n"
     ]
    }
   ],
   "source": [
    "players.info()"
   ]
  },
  {
   "cell_type": "code",
   "execution_count": 163,
   "id": "99556509",
   "metadata": {},
   "outputs": [
    {
     "data": {
      "text/plain": [
       "Name                    object\n",
       "Position                object\n",
       "Age                      int64\n",
       "Market_value           float64\n",
       "Country                 object\n",
       "Club                    object\n",
       "Matches                  int64\n",
       "Goals                    int64\n",
       "Own_goals                int64\n",
       "Assists                  int64\n",
       "Yellow_cards             int64\n",
       "Second_yellow_cards      int64\n",
       "Red_cards                int64\n",
       "Substitute_in            int64\n",
       "Substitute_out           int64\n",
       "dtype: object"
      ]
     },
     "execution_count": 163,
     "metadata": {},
     "output_type": "execute_result"
    }
   ],
   "source": [
    "players.dtypes"
   ]
  },
  {
   "cell_type": "code",
   "execution_count": 164,
   "id": "0fa7361c",
   "metadata": {},
   "outputs": [
    {
     "data": {
      "text/plain": [
       "dtype('int32')"
      ]
     },
     "execution_count": 164,
     "metadata": {},
     "output_type": "execute_result"
    }
   ],
   "source": [
    "# convert market value to int\n",
    "players['Market_value'] = players['Market_value'].astype(int)\n",
    "players['Market_value'].dtypes"
   ]
  },
  {
   "cell_type": "code",
   "execution_count": 165,
   "id": "70fb192c",
   "metadata": {},
   "outputs": [
    {
     "data": {
      "text/plain": [
       "Name                   0\n",
       "Position               0\n",
       "Age                    0\n",
       "Market_value           0\n",
       "Country                0\n",
       "Club                   0\n",
       "Matches                0\n",
       "Goals                  0\n",
       "Own_goals              0\n",
       "Assists                0\n",
       "Yellow_cards           0\n",
       "Second_yellow_cards    0\n",
       "Red_cards              0\n",
       "Substitute_in          0\n",
       "Substitute_out         0\n",
       "dtype: int64"
      ]
     },
     "execution_count": 165,
     "metadata": {},
     "output_type": "execute_result"
    }
   ],
   "source": [
    "players.isna().sum()"
   ]
  },
  {
   "cell_type": "code",
   "execution_count": 166,
   "id": "c5d54b8d",
   "metadata": {},
   "outputs": [
    {
     "data": {
      "text/plain": [
       "Name                   0\n",
       "Position               0\n",
       "Age                    0\n",
       "Market_value           0\n",
       "Country                0\n",
       "Club                   0\n",
       "Matches                0\n",
       "Goals                  0\n",
       "Own_goals              0\n",
       "Assists                0\n",
       "Yellow_cards           0\n",
       "Second_yellow_cards    0\n",
       "Red_cards              0\n",
       "Substitute_in          0\n",
       "Substitute_out         0\n",
       "dtype: int64"
      ]
     },
     "execution_count": 166,
     "metadata": {},
     "output_type": "execute_result"
    }
   ],
   "source": [
    "players.isnull().sum()"
   ]
  },
  {
   "cell_type": "code",
   "execution_count": 167,
   "id": "ce75054c",
   "metadata": {},
   "outputs": [
    {
     "data": {
      "text/html": [
       "<div>\n",
       "<style scoped>\n",
       "    .dataframe tbody tr th:only-of-type {\n",
       "        vertical-align: middle;\n",
       "    }\n",
       "\n",
       "    .dataframe tbody tr th {\n",
       "        vertical-align: top;\n",
       "    }\n",
       "\n",
       "    .dataframe thead th {\n",
       "        text-align: right;\n",
       "    }\n",
       "</style>\n",
       "<table border=\"1\" class=\"dataframe\">\n",
       "  <thead>\n",
       "    <tr style=\"text-align: right;\">\n",
       "      <th></th>\n",
       "      <th>Age</th>\n",
       "      <th>Market_value</th>\n",
       "      <th>Matches</th>\n",
       "      <th>Goals</th>\n",
       "      <th>Own_goals</th>\n",
       "      <th>Assists</th>\n",
       "      <th>Yellow_cards</th>\n",
       "      <th>Second_yellow_cards</th>\n",
       "      <th>Red_cards</th>\n",
       "      <th>Substitute_in</th>\n",
       "      <th>Substitute_out</th>\n",
       "    </tr>\n",
       "  </thead>\n",
       "  <tbody>\n",
       "    <tr>\n",
       "      <th>count</th>\n",
       "      <td>500.000000</td>\n",
       "      <td>500.000000</td>\n",
       "      <td>500.000000</td>\n",
       "      <td>500.000000</td>\n",
       "      <td>500.000000</td>\n",
       "      <td>500.00000</td>\n",
       "      <td>500.000000</td>\n",
       "      <td>500.000000</td>\n",
       "      <td>500.000000</td>\n",
       "      <td>500.000000</td>\n",
       "      <td>500.000000</td>\n",
       "    </tr>\n",
       "    <tr>\n",
       "      <th>mean</th>\n",
       "      <td>24.968000</td>\n",
       "      <td>31.250000</td>\n",
       "      <td>12.396000</td>\n",
       "      <td>2.160000</td>\n",
       "      <td>0.030000</td>\n",
       "      <td>1.51200</td>\n",
       "      <td>1.592000</td>\n",
       "      <td>0.036000</td>\n",
       "      <td>0.046000</td>\n",
       "      <td>2.394000</td>\n",
       "      <td>3.744000</td>\n",
       "    </tr>\n",
       "    <tr>\n",
       "      <th>std</th>\n",
       "      <td>3.165916</td>\n",
       "      <td>17.637848</td>\n",
       "      <td>4.342453</td>\n",
       "      <td>2.880102</td>\n",
       "      <td>0.170758</td>\n",
       "      <td>1.85276</td>\n",
       "      <td>1.445585</td>\n",
       "      <td>0.186477</td>\n",
       "      <td>0.209695</td>\n",
       "      <td>2.517825</td>\n",
       "      <td>3.293046</td>\n",
       "    </tr>\n",
       "    <tr>\n",
       "      <th>min</th>\n",
       "      <td>16.000000</td>\n",
       "      <td>16.000000</td>\n",
       "      <td>0.000000</td>\n",
       "      <td>0.000000</td>\n",
       "      <td>0.000000</td>\n",
       "      <td>0.00000</td>\n",
       "      <td>0.000000</td>\n",
       "      <td>0.000000</td>\n",
       "      <td>0.000000</td>\n",
       "      <td>0.000000</td>\n",
       "      <td>0.000000</td>\n",
       "    </tr>\n",
       "    <tr>\n",
       "      <th>25%</th>\n",
       "      <td>23.000000</td>\n",
       "      <td>19.000000</td>\n",
       "      <td>10.000000</td>\n",
       "      <td>0.000000</td>\n",
       "      <td>0.000000</td>\n",
       "      <td>0.00000</td>\n",
       "      <td>0.000000</td>\n",
       "      <td>0.000000</td>\n",
       "      <td>0.000000</td>\n",
       "      <td>0.000000</td>\n",
       "      <td>1.000000</td>\n",
       "    </tr>\n",
       "    <tr>\n",
       "      <th>50%</th>\n",
       "      <td>25.000000</td>\n",
       "      <td>25.000000</td>\n",
       "      <td>13.000000</td>\n",
       "      <td>1.000000</td>\n",
       "      <td>0.000000</td>\n",
       "      <td>1.00000</td>\n",
       "      <td>1.000000</td>\n",
       "      <td>0.000000</td>\n",
       "      <td>0.000000</td>\n",
       "      <td>2.000000</td>\n",
       "      <td>3.000000</td>\n",
       "    </tr>\n",
       "    <tr>\n",
       "      <th>75%</th>\n",
       "      <td>27.000000</td>\n",
       "      <td>36.000000</td>\n",
       "      <td>16.000000</td>\n",
       "      <td>3.000000</td>\n",
       "      <td>0.000000</td>\n",
       "      <td>2.00000</td>\n",
       "      <td>2.000000</td>\n",
       "      <td>0.000000</td>\n",
       "      <td>0.000000</td>\n",
       "      <td>3.250000</td>\n",
       "      <td>6.000000</td>\n",
       "    </tr>\n",
       "    <tr>\n",
       "      <th>max</th>\n",
       "      <td>36.000000</td>\n",
       "      <td>144.000000</td>\n",
       "      <td>24.000000</td>\n",
       "      <td>23.000000</td>\n",
       "      <td>1.000000</td>\n",
       "      <td>12.00000</td>\n",
       "      <td>7.000000</td>\n",
       "      <td>1.000000</td>\n",
       "      <td>1.000000</td>\n",
       "      <td>13.000000</td>\n",
       "      <td>20.000000</td>\n",
       "    </tr>\n",
       "  </tbody>\n",
       "</table>\n",
       "</div>"
      ],
      "text/plain": [
       "              Age  Market_value     Matches       Goals   Own_goals  \\\n",
       "count  500.000000    500.000000  500.000000  500.000000  500.000000   \n",
       "mean    24.968000     31.250000   12.396000    2.160000    0.030000   \n",
       "std      3.165916     17.637848    4.342453    2.880102    0.170758   \n",
       "min     16.000000     16.000000    0.000000    0.000000    0.000000   \n",
       "25%     23.000000     19.000000   10.000000    0.000000    0.000000   \n",
       "50%     25.000000     25.000000   13.000000    1.000000    0.000000   \n",
       "75%     27.000000     36.000000   16.000000    3.000000    0.000000   \n",
       "max     36.000000    144.000000   24.000000   23.000000    1.000000   \n",
       "\n",
       "         Assists  Yellow_cards  Second_yellow_cards   Red_cards  \\\n",
       "count  500.00000    500.000000           500.000000  500.000000   \n",
       "mean     1.51200      1.592000             0.036000    0.046000   \n",
       "std      1.85276      1.445585             0.186477    0.209695   \n",
       "min      0.00000      0.000000             0.000000    0.000000   \n",
       "25%      0.00000      0.000000             0.000000    0.000000   \n",
       "50%      1.00000      1.000000             0.000000    0.000000   \n",
       "75%      2.00000      2.000000             0.000000    0.000000   \n",
       "max     12.00000      7.000000             1.000000    1.000000   \n",
       "\n",
       "       Substitute_in  Substitute_out  \n",
       "count     500.000000      500.000000  \n",
       "mean        2.394000        3.744000  \n",
       "std         2.517825        3.293046  \n",
       "min         0.000000        0.000000  \n",
       "25%         0.000000        1.000000  \n",
       "50%         2.000000        3.000000  \n",
       "75%         3.250000        6.000000  \n",
       "max        13.000000       20.000000  "
      ]
     },
     "execution_count": 167,
     "metadata": {},
     "output_type": "execute_result"
    }
   ],
   "source": [
    "players.describe()"
   ]
  },
  {
   "cell_type": "code",
   "execution_count": 168,
   "id": "691b4e8d",
   "metadata": {},
   "outputs": [
    {
     "data": {
      "text/plain": [
       "array(['France', 'Norway', 'England', 'Egypt', 'Belgium', 'Brazil',\n",
       "       'Netherlands', 'Portugal', 'Germany', 'Senegal', 'Korea, South',\n",
       "       'Spain', 'Argentina', 'Canada', 'Morocco', 'Italy', 'Serbia',\n",
       "       'Slovenia', 'Uruguay', 'Scotland', 'Nigeria', 'Slovakia', 'Poland',\n",
       "       \"Cote d'Ivoire\", 'Austria', 'United States', 'Turkey', 'Mexico',\n",
       "       'Croatia', 'Czech Republic', 'Algeria', 'Burkina Faso', 'Sweden',\n",
       "       'Ghana', 'Denmark', 'Jamaica', 'Colombia', 'Guinea', 'Switzerland',\n",
       "       'Ukraine', 'Russia', 'DR Congo', 'Hungary', 'Mali', 'Japan',\n",
       "       'Cameroon', 'Iran', 'Montenegro', 'Gabon', 'Albania', 'Zambia',\n",
       "       'The Gambia', 'Israel', 'Georgia', 'Venezuela', 'Wales', 'Peru'],\n",
       "      dtype=object)"
      ]
     },
     "execution_count": 168,
     "metadata": {},
     "output_type": "execute_result"
    }
   ],
   "source": [
    "# check for uniqueness in country\n",
    "players['Country'].unique()"
   ]
  },
  {
   "cell_type": "code",
   "execution_count": 170,
   "id": "5ce70153",
   "metadata": {},
   "outputs": [
    {
     "data": {
      "text/plain": [
       "57"
      ]
     },
     "execution_count": 170,
     "metadata": {},
     "output_type": "execute_result"
    }
   ],
   "source": [
    "players['Country'].nunique()"
   ]
  },
  {
   "cell_type": "code",
   "execution_count": 171,
   "id": "9457414c",
   "metadata": {},
   "outputs": [
    {
     "data": {
      "text/plain": [
       "Index(['Name', 'Position', 'Age', 'Market_value', 'Country', 'Club', 'Matches',\n",
       "       'Goals', 'Own_goals', 'Assists', 'Yellow_cards', 'Second_yellow_cards',\n",
       "       'Red_cards', 'Substitute_in', 'Substitute_out'],\n",
       "      dtype='object')"
      ]
     },
     "execution_count": 171,
     "metadata": {},
     "output_type": "execute_result"
    }
   ],
   "source": [
    "players.columns"
   ]
  },
  {
   "cell_type": "code",
   "execution_count": 172,
   "id": "c089b124",
   "metadata": {},
   "outputs": [
    {
     "data": {
      "text/plain": [
       "array(['Paris Saint-Germain', 'Borussia Dortmund', 'Tottenham Hotspur',\n",
       "       'Manchester City', 'Liverpool FC', 'Chelsea FC',\n",
       "       'Manchester United', 'FC Barcelona', 'Bayern Munich',\n",
       "       'Inter Milan', 'Atlético de Madrid', 'West Ham United',\n",
       "       'Real Sociedad', 'Juventus FC', 'SS Lazio', 'Real Madrid',\n",
       "       'Bayer 04 Leverkusen', 'Arsenal FC', 'Sevilla FC', 'SSC Napoli',\n",
       "       'Leicester City', 'Everton FC', 'AC Milan', 'Villarreal CF',\n",
       "       'ACF Fiorentina', 'RB Leipzig', 'AS Roma', 'Crystal Palace',\n",
       "       'Wolverhampton Wanderers', 'Valencia CF', 'Leeds United',\n",
       "       'LOSC Lille', 'Aston Villa', 'Olympique Lyon', 'OGC Nice',\n",
       "       'AS Monaco', 'Atalanta BC', 'US Sassuolo', 'Torino FC',\n",
       "       'Ajax Amsterdam', 'Brentford FC', 'Southampton FC',\n",
       "       'Newcastle United', 'VfL Wolfsburg', 'FC Porto',\n",
       "       'Olympique Marseille', 'Eintracht Frankfurt',\n",
       "       'Borussia Mönchengladbach', 'Watford FC', 'Stade Rennais FC',\n",
       "       'Clube de Regatas do Flamengo', 'VfB Stuttgart', 'Club Brugge KV',\n",
       "       'Sporting CP', 'Brighton & Hove Albion', 'Dynamo Kyiv',\n",
       "       'Athletic Bilbao', 'Real Betis Balompié', 'Zenit St. Petersburg',\n",
       "       'Burnley FC', 'SL Benfica', 'TSG 1899 Hoffenheim', 'Norwich City',\n",
       "       'PSV Eindhoven', 'KRC Genk', 'Club Atlético Vélez Sarsfield',\n",
       "       'Club Atlético River Plate', 'FC Metz', 'UC Sampdoria',\n",
       "       'Red Bull Salzburg', 'Bologna FC 1909', 'Shakhtar Donetsk',\n",
       "       'Cagliari Calcio', 'Getafe CF', 'Al-Rayyan SC', 'Rubin Kazan',\n",
       "       'Feyenoord Rotterdam', 'RCD Espanyol Barcelona', 'UD Almería',\n",
       "       'Sheffield United', 'Celta de Vigo'], dtype=object)"
      ]
     },
     "execution_count": 172,
     "metadata": {},
     "output_type": "execute_result"
    }
   ],
   "source": [
    "players['Club'].unique()"
   ]
  },
  {
   "cell_type": "code",
   "execution_count": 173,
   "id": "5df4a9ed",
   "metadata": {},
   "outputs": [
    {
     "data": {
      "text/plain": [
       "81"
      ]
     },
     "execution_count": 173,
     "metadata": {},
     "output_type": "execute_result"
    }
   ],
   "source": [
    "players['Club'].nunique()"
   ]
  },
  {
   "cell_type": "code",
   "execution_count": 174,
   "id": "55ded138",
   "metadata": {},
   "outputs": [
    {
     "data": {
      "text/plain": [
       "array(['Centre-Forward', 'Left Winger', 'Right Winger',\n",
       "       'Attacking Midfield', 'Central Midfield', 'Defensive Midfield',\n",
       "       'Right-Back', 'Centre-Back', 'Second Striker', 'Left-Back',\n",
       "       'Goalkeeper', 'Left Midfield', 'Right Midfield'], dtype=object)"
      ]
     },
     "execution_count": 174,
     "metadata": {},
     "output_type": "execute_result"
    }
   ],
   "source": [
    "players['Position'].unique()"
   ]
  },
  {
   "cell_type": "code",
   "execution_count": 175,
   "id": "3b483cad",
   "metadata": {},
   "outputs": [
    {
     "data": {
      "text/plain": [
       "13"
      ]
     },
     "execution_count": 175,
     "metadata": {},
     "output_type": "execute_result"
    }
   ],
   "source": [
    "players['Position'].nunique()"
   ]
  },
  {
   "cell_type": "markdown",
   "id": "3bc7fa24",
   "metadata": {},
   "source": [
    "### Insights\n",
    "- They are 500 records and 15 original columns in the dataset with columns subjects to further modifications based on\n",
    "    the questions\n",
    "- The mean age of players in the analysis is approximately 25 years.\n",
    "- The mean market value for all players across all clubs is 31.25\n",
    "- They are 12 matches played for all players on average with an avearge of 2 goals scored per match and at least one assist\n",
    "- They is an average of 2 players substituted in per game\n",
    "- The oldest player is 36 years\n",
    "- All players featured in the competiton were from 52 different nationalities\n",
    "- A total of 81 clubs participated in the competition"
   ]
  },
  {
   "cell_type": "markdown",
   "id": "bfb3ec33",
   "metadata": {},
   "source": [
    "#### Data Modelling"
   ]
  },
  {
   "cell_type": "markdown",
   "id": "a04471e9",
   "metadata": {},
   "source": [
    "#### 1. How do players perform in terms of goals, assists, and other metrics per game?"
   ]
  },
  {
   "cell_type": "code",
   "execution_count": 176,
   "id": "1be34d6b",
   "metadata": {},
   "outputs": [
    {
     "data": {
      "text/plain": [
       "Index(['Name', 'Position', 'Age', 'Market_value', 'Country', 'Club', 'Matches',\n",
       "       'Goals', 'Own_goals', 'Assists', 'Yellow_cards', 'Second_yellow_cards',\n",
       "       'Red_cards', 'Substitute_in', 'Substitute_out'],\n",
       "      dtype='object')"
      ]
     },
     "execution_count": 176,
     "metadata": {},
     "output_type": "execute_result"
    }
   ],
   "source": [
    "players.columns"
   ]
  },
  {
   "cell_type": "code",
   "execution_count": 177,
   "id": "c11ca4e7",
   "metadata": {},
   "outputs": [
    {
     "data": {
      "text/html": [
       "<div>\n",
       "<style scoped>\n",
       "    .dataframe tbody tr th:only-of-type {\n",
       "        vertical-align: middle;\n",
       "    }\n",
       "\n",
       "    .dataframe tbody tr th {\n",
       "        vertical-align: top;\n",
       "    }\n",
       "\n",
       "    .dataframe thead th {\n",
       "        text-align: right;\n",
       "    }\n",
       "</style>\n",
       "<table border=\"1\" class=\"dataframe\">\n",
       "  <thead>\n",
       "    <tr style=\"text-align: right;\">\n",
       "      <th></th>\n",
       "      <th>Name</th>\n",
       "      <th>Position</th>\n",
       "      <th>Age</th>\n",
       "      <th>Market_value</th>\n",
       "      <th>Country</th>\n",
       "      <th>Club</th>\n",
       "      <th>Matches</th>\n",
       "      <th>Goals</th>\n",
       "      <th>Own_goals</th>\n",
       "      <th>Assists</th>\n",
       "      <th>Yellow_cards</th>\n",
       "      <th>Second_yellow_cards</th>\n",
       "      <th>Red_cards</th>\n",
       "      <th>Substitute_in</th>\n",
       "      <th>Substitute_out</th>\n",
       "      <th>Goals_per_game</th>\n",
       "      <th>Assists_per_game</th>\n",
       "    </tr>\n",
       "  </thead>\n",
       "  <tbody>\n",
       "    <tr>\n",
       "      <th>0</th>\n",
       "      <td>Kylian Mbappé</td>\n",
       "      <td>Centre-Forward</td>\n",
       "      <td>22</td>\n",
       "      <td>144</td>\n",
       "      <td>France</td>\n",
       "      <td>Paris Saint-Germain</td>\n",
       "      <td>16</td>\n",
       "      <td>7</td>\n",
       "      <td>0</td>\n",
       "      <td>11</td>\n",
       "      <td>3</td>\n",
       "      <td>0</td>\n",
       "      <td>0</td>\n",
       "      <td>0</td>\n",
       "      <td>8</td>\n",
       "      <td>0.44</td>\n",
       "      <td>0.69</td>\n",
       "    </tr>\n",
       "    <tr>\n",
       "      <th>1</th>\n",
       "      <td>Erling Haaland</td>\n",
       "      <td>Centre-Forward</td>\n",
       "      <td>21</td>\n",
       "      <td>135</td>\n",
       "      <td>Norway</td>\n",
       "      <td>Borussia Dortmund</td>\n",
       "      <td>10</td>\n",
       "      <td>13</td>\n",
       "      <td>0</td>\n",
       "      <td>4</td>\n",
       "      <td>1</td>\n",
       "      <td>0</td>\n",
       "      <td>0</td>\n",
       "      <td>0</td>\n",
       "      <td>1</td>\n",
       "      <td>1.30</td>\n",
       "      <td>0.40</td>\n",
       "    </tr>\n",
       "    <tr>\n",
       "      <th>2</th>\n",
       "      <td>Harry Kane</td>\n",
       "      <td>Centre-Forward</td>\n",
       "      <td>28</td>\n",
       "      <td>108</td>\n",
       "      <td>England</td>\n",
       "      <td>Tottenham Hotspur</td>\n",
       "      <td>16</td>\n",
       "      <td>7</td>\n",
       "      <td>0</td>\n",
       "      <td>2</td>\n",
       "      <td>2</td>\n",
       "      <td>0</td>\n",
       "      <td>0</td>\n",
       "      <td>2</td>\n",
       "      <td>2</td>\n",
       "      <td>0.44</td>\n",
       "      <td>0.12</td>\n",
       "    </tr>\n",
       "    <tr>\n",
       "      <th>3</th>\n",
       "      <td>Jack Grealish</td>\n",
       "      <td>Left Winger</td>\n",
       "      <td>26</td>\n",
       "      <td>90</td>\n",
       "      <td>England</td>\n",
       "      <td>Manchester City</td>\n",
       "      <td>15</td>\n",
       "      <td>2</td>\n",
       "      <td>0</td>\n",
       "      <td>3</td>\n",
       "      <td>1</td>\n",
       "      <td>0</td>\n",
       "      <td>0</td>\n",
       "      <td>2</td>\n",
       "      <td>8</td>\n",
       "      <td>0.13</td>\n",
       "      <td>0.20</td>\n",
       "    </tr>\n",
       "    <tr>\n",
       "      <th>4</th>\n",
       "      <td>Mohamed Salah</td>\n",
       "      <td>Right Winger</td>\n",
       "      <td>29</td>\n",
       "      <td>90</td>\n",
       "      <td>Egypt</td>\n",
       "      <td>Liverpool FC</td>\n",
       "      <td>15</td>\n",
       "      <td>15</td>\n",
       "      <td>0</td>\n",
       "      <td>6</td>\n",
       "      <td>1</td>\n",
       "      <td>0</td>\n",
       "      <td>0</td>\n",
       "      <td>0</td>\n",
       "      <td>3</td>\n",
       "      <td>1.00</td>\n",
       "      <td>0.40</td>\n",
       "    </tr>\n",
       "  </tbody>\n",
       "</table>\n",
       "</div>"
      ],
      "text/plain": [
       "             Name        Position  Age  Market_value  Country  \\\n",
       "0   Kylian Mbappé  Centre-Forward   22           144   France   \n",
       "1  Erling Haaland  Centre-Forward   21           135   Norway   \n",
       "2      Harry Kane  Centre-Forward   28           108  England   \n",
       "3   Jack Grealish     Left Winger   26            90  England   \n",
       "4   Mohamed Salah    Right Winger   29            90    Egypt   \n",
       "\n",
       "                  Club  Matches  Goals  Own_goals  Assists  Yellow_cards  \\\n",
       "0  Paris Saint-Germain       16      7          0       11             3   \n",
       "1    Borussia Dortmund       10     13          0        4             1   \n",
       "2    Tottenham Hotspur       16      7          0        2             2   \n",
       "3      Manchester City       15      2          0        3             1   \n",
       "4         Liverpool FC       15     15          0        6             1   \n",
       "\n",
       "   Second_yellow_cards  Red_cards  Substitute_in  Substitute_out  \\\n",
       "0                    0          0              0               8   \n",
       "1                    0          0              0               1   \n",
       "2                    0          0              2               2   \n",
       "3                    0          0              2               8   \n",
       "4                    0          0              0               3   \n",
       "\n",
       "   Goals_per_game  Assists_per_game  \n",
       "0            0.44              0.69  \n",
       "1            1.30              0.40  \n",
       "2            0.44              0.12  \n",
       "3            0.13              0.20  \n",
       "4            1.00              0.40  "
      ]
     },
     "execution_count": 177,
     "metadata": {},
     "output_type": "execute_result"
    }
   ],
   "source": [
    "# create new columns for goals, assists\n",
    "players['Goals_per_game'] = (players['Goals']/players['Matches']).round(2)\n",
    "players['Assists_per_game'] = (players['Assists']/players['Matches']).round(2)\n",
    "players.head()"
   ]
  },
  {
   "cell_type": "code",
   "execution_count": 178,
   "id": "87982e70",
   "metadata": {},
   "outputs": [
    {
     "data": {
      "text/html": [
       "<div>\n",
       "<style scoped>\n",
       "    .dataframe tbody tr th:only-of-type {\n",
       "        vertical-align: middle;\n",
       "    }\n",
       "\n",
       "    .dataframe tbody tr th {\n",
       "        vertical-align: top;\n",
       "    }\n",
       "\n",
       "    .dataframe thead th {\n",
       "        text-align: right;\n",
       "    }\n",
       "</style>\n",
       "<table border=\"1\" class=\"dataframe\">\n",
       "  <thead>\n",
       "    <tr style=\"text-align: right;\">\n",
       "      <th></th>\n",
       "      <th>Name</th>\n",
       "      <th>Goals</th>\n",
       "      <th>Assists</th>\n",
       "      <th>Goals_per_game</th>\n",
       "      <th>Assists_per_game</th>\n",
       "    </tr>\n",
       "  </thead>\n",
       "  <tbody>\n",
       "    <tr>\n",
       "      <th>0</th>\n",
       "      <td>Kylian Mbappé</td>\n",
       "      <td>7</td>\n",
       "      <td>11</td>\n",
       "      <td>0.44</td>\n",
       "      <td>0.69</td>\n",
       "    </tr>\n",
       "    <tr>\n",
       "      <th>1</th>\n",
       "      <td>Erling Haaland</td>\n",
       "      <td>13</td>\n",
       "      <td>4</td>\n",
       "      <td>1.30</td>\n",
       "      <td>0.40</td>\n",
       "    </tr>\n",
       "    <tr>\n",
       "      <th>2</th>\n",
       "      <td>Harry Kane</td>\n",
       "      <td>7</td>\n",
       "      <td>2</td>\n",
       "      <td>0.44</td>\n",
       "      <td>0.12</td>\n",
       "    </tr>\n",
       "    <tr>\n",
       "      <th>3</th>\n",
       "      <td>Jack Grealish</td>\n",
       "      <td>2</td>\n",
       "      <td>3</td>\n",
       "      <td>0.13</td>\n",
       "      <td>0.20</td>\n",
       "    </tr>\n",
       "    <tr>\n",
       "      <th>4</th>\n",
       "      <td>Mohamed Salah</td>\n",
       "      <td>15</td>\n",
       "      <td>6</td>\n",
       "      <td>1.00</td>\n",
       "      <td>0.40</td>\n",
       "    </tr>\n",
       "  </tbody>\n",
       "</table>\n",
       "</div>"
      ],
      "text/plain": [
       "             Name  Goals  Assists  Goals_per_game  Assists_per_game\n",
       "0   Kylian Mbappé      7       11            0.44              0.69\n",
       "1  Erling Haaland     13        4            1.30              0.40\n",
       "2      Harry Kane      7        2            0.44              0.12\n",
       "3   Jack Grealish      2        3            0.13              0.20\n",
       "4   Mohamed Salah     15        6            1.00              0.40"
      ]
     },
     "execution_count": 178,
     "metadata": {},
     "output_type": "execute_result"
    }
   ],
   "source": [
    "df_goal_ass = players[['Name', 'Goals','Assists', 'Goals_per_game', 'Assists_per_game']]\n",
    "df_goal_ass.head()"
   ]
  },
  {
   "cell_type": "code",
   "execution_count": 179,
   "id": "71e5f4c3",
   "metadata": {},
   "outputs": [
    {
     "data": {
      "text/html": [
       "<div>\n",
       "<style scoped>\n",
       "    .dataframe tbody tr th:only-of-type {\n",
       "        vertical-align: middle;\n",
       "    }\n",
       "\n",
       "    .dataframe tbody tr th {\n",
       "        vertical-align: top;\n",
       "    }\n",
       "\n",
       "    .dataframe thead th {\n",
       "        text-align: right;\n",
       "    }\n",
       "</style>\n",
       "<table border=\"1\" class=\"dataframe\">\n",
       "  <thead>\n",
       "    <tr style=\"text-align: right;\">\n",
       "      <th></th>\n",
       "      <th>Goals</th>\n",
       "      <th>Assists</th>\n",
       "      <th>Goals_per_game</th>\n",
       "      <th>Assists_per_game</th>\n",
       "    </tr>\n",
       "  </thead>\n",
       "  <tbody>\n",
       "    <tr>\n",
       "      <th>count</th>\n",
       "      <td>500.000000</td>\n",
       "      <td>500.00000</td>\n",
       "      <td>493.000000</td>\n",
       "      <td>493.000000</td>\n",
       "    </tr>\n",
       "    <tr>\n",
       "      <th>mean</th>\n",
       "      <td>2.160000</td>\n",
       "      <td>1.51200</td>\n",
       "      <td>0.165497</td>\n",
       "      <td>0.113631</td>\n",
       "    </tr>\n",
       "    <tr>\n",
       "      <th>std</th>\n",
       "      <td>2.880102</td>\n",
       "      <td>1.85276</td>\n",
       "      <td>0.203065</td>\n",
       "      <td>0.127132</td>\n",
       "    </tr>\n",
       "    <tr>\n",
       "      <th>min</th>\n",
       "      <td>0.000000</td>\n",
       "      <td>0.00000</td>\n",
       "      <td>0.000000</td>\n",
       "      <td>0.000000</td>\n",
       "    </tr>\n",
       "    <tr>\n",
       "      <th>25%</th>\n",
       "      <td>0.000000</td>\n",
       "      <td>0.00000</td>\n",
       "      <td>0.000000</td>\n",
       "      <td>0.000000</td>\n",
       "    </tr>\n",
       "    <tr>\n",
       "      <th>50%</th>\n",
       "      <td>1.000000</td>\n",
       "      <td>1.00000</td>\n",
       "      <td>0.110000</td>\n",
       "      <td>0.080000</td>\n",
       "    </tr>\n",
       "    <tr>\n",
       "      <th>75%</th>\n",
       "      <td>3.000000</td>\n",
       "      <td>2.00000</td>\n",
       "      <td>0.250000</td>\n",
       "      <td>0.180000</td>\n",
       "    </tr>\n",
       "    <tr>\n",
       "      <th>max</th>\n",
       "      <td>23.000000</td>\n",
       "      <td>12.00000</td>\n",
       "      <td>1.350000</td>\n",
       "      <td>0.690000</td>\n",
       "    </tr>\n",
       "  </tbody>\n",
       "</table>\n",
       "</div>"
      ],
      "text/plain": [
       "            Goals    Assists  Goals_per_game  Assists_per_game\n",
       "count  500.000000  500.00000      493.000000        493.000000\n",
       "mean     2.160000    1.51200        0.165497          0.113631\n",
       "std      2.880102    1.85276        0.203065          0.127132\n",
       "min      0.000000    0.00000        0.000000          0.000000\n",
       "25%      0.000000    0.00000        0.000000          0.000000\n",
       "50%      1.000000    1.00000        0.110000          0.080000\n",
       "75%      3.000000    2.00000        0.250000          0.180000\n",
       "max     23.000000   12.00000        1.350000          0.690000"
      ]
     },
     "execution_count": 179,
     "metadata": {},
     "output_type": "execute_result"
    }
   ],
   "source": [
    "df_goal_ass.describe()"
   ]
  },
  {
   "cell_type": "code",
   "execution_count": 180,
   "id": "2c9f50b9",
   "metadata": {},
   "outputs": [
    {
     "data": {
      "text/plain": [
       "Name\n",
       "Robert Lewandowski    23\n",
       "Karim Adeyemi         15\n",
       "Mohamed Salah         15\n",
       "Julián Álvarez        15\n",
       "Sébastien Haller      14\n",
       "Karim Benzema         14\n",
       "Erling Haaland        13\n",
       "Paul Onuachu          12\n",
       "Dušan Vlahovic        12\n",
       "Christopher Nkunku    11\n",
       "Luis Díaz             11\n",
       "Ciro Immobile         11\n",
       "Cristiano Ronaldo     10\n",
       "Vinícius Júnior        9\n",
       "Viktor Tsygankov       9\n",
       "Victor Osimhen         9\n",
       "Jonathan David         9\n",
       "Pedro Gonçalves        9\n",
       "Sardar Azmoun          9\n",
       "Leroy Sané             8\n",
       "Name: Goals, dtype: int64"
      ]
     },
     "execution_count": 180,
     "metadata": {},
     "output_type": "execute_result"
    }
   ],
   "source": [
    "#Top scoring players\n",
    "top_scoring_players = players.groupby('Name').Goals.sum().sort_values(ascending=False).head(20)\n",
    "top_scoring_players"
   ]
  },
  {
   "cell_type": "code",
   "execution_count": 181,
   "id": "971300a6",
   "metadata": {},
   "outputs": [
    {
     "data": {
      "text/plain": [
       "(array([ 0,  1,  2,  3,  4,  5,  6,  7,  8,  9, 10, 11, 12, 13, 14, 15, 16,\n",
       "        17, 18, 19]),\n",
       " [Text(0, 0, 'Robert Lewandowski'),\n",
       "  Text(1, 0, 'Karim Adeyemi'),\n",
       "  Text(2, 0, 'Mohamed Salah'),\n",
       "  Text(3, 0, 'Julián Álvarez'),\n",
       "  Text(4, 0, 'Sébastien Haller'),\n",
       "  Text(5, 0, 'Karim Benzema'),\n",
       "  Text(6, 0, 'Erling Haaland'),\n",
       "  Text(7, 0, 'Paul Onuachu'),\n",
       "  Text(8, 0, 'Dušan Vlahovic'),\n",
       "  Text(9, 0, 'Christopher Nkunku'),\n",
       "  Text(10, 0, 'Luis Díaz'),\n",
       "  Text(11, 0, 'Ciro Immobile'),\n",
       "  Text(12, 0, 'Cristiano Ronaldo'),\n",
       "  Text(13, 0, 'Vinícius Júnior'),\n",
       "  Text(14, 0, 'Viktor Tsygankov'),\n",
       "  Text(15, 0, 'Victor Osimhen'),\n",
       "  Text(16, 0, 'Jonathan David'),\n",
       "  Text(17, 0, 'Pedro Gonçalves'),\n",
       "  Text(18, 0, 'Sardar Azmoun'),\n",
       "  Text(19, 0, 'Leroy Sané')])"
      ]
     },
     "execution_count": 181,
     "metadata": {},
     "output_type": "execute_result"
    },
    {
     "data": {
      "image/png": "[encoded data removed]",
      "text/plain": [
       "<Figure size 640x480 with 1 Axes>"
      ]
     },
     "metadata": {},
     "output_type": "display_data"
    }
   ],
   "source": [
    "sns.barplot(data=players, x='Name', y='Goals', order=top_scoring_players.index)\n",
    "plt.title('Top 20 scoring players')\n",
    "plt.xticks(rotation=90)"
   ]
  },
  {
   "cell_type": "code",
   "execution_count": 182,
   "id": "d8aac2d4",
   "metadata": {},
   "outputs": [
    {
     "data": {
      "text/plain": [
       "Name\n",
       "Thomas Müller             12\n",
       "Kylian Mbappé             11\n",
       "Leroy Sané                10\n",
       "Karim Benzema              8\n",
       "Cody Gakpo                 8\n",
       "Bruno Fernandes            8\n",
       "Trent Alexander-Arnold     7\n",
       "Vinícius Júnior            7\n",
       "Christopher Nkunku         7\n",
       "Sandro Tonali              7\n",
       "Jude Bellingham            7\n",
       "Paul Pogba                 7\n",
       "Florian Wirtz              7\n",
       "Nicolò Barella             6\n",
       "Noa Lang                   6\n",
       "Andrej Kramaric            6\n",
       "Umar Sadiq                 6\n",
       "Antony                     6\n",
       "Mohamed Salah              6\n",
       "Amine Gouiri               6\n",
       "Name: Assists, dtype: int64"
      ]
     },
     "execution_count": 182,
     "metadata": {},
     "output_type": "execute_result"
    }
   ],
   "source": [
    "# by assists\n",
    "top_assist_players = players.groupby('Name').Assists.sum().sort_values(ascending=False).head(20)\n",
    "top_assist_players"
   ]
  },
  {
   "cell_type": "code",
   "execution_count": 183,
   "id": "df081638",
   "metadata": {},
   "outputs": [
    {
     "data": {
      "text/plain": [
       "(array([ 0,  1,  2,  3,  4,  5,  6,  7,  8,  9, 10, 11, 12, 13, 14, 15, 16,\n",
       "        17, 18, 19]),\n",
       " [Text(0, 0, 'Thomas Müller'),\n",
       "  Text(1, 0, 'Kylian Mbappé'),\n",
       "  Text(2, 0, 'Leroy Sané'),\n",
       "  Text(3, 0, 'Karim Benzema'),\n",
       "  Text(4, 0, 'Cody Gakpo'),\n",
       "  Text(5, 0, 'Bruno Fernandes'),\n",
       "  Text(6, 0, 'Trent Alexander-Arnold'),\n",
       "  Text(7, 0, 'Vinícius Júnior'),\n",
       "  Text(8, 0, 'Christopher Nkunku'),\n",
       "  Text(9, 0, 'Sandro Tonali'),\n",
       "  Text(10, 0, 'Jude Bellingham'),\n",
       "  Text(11, 0, 'Paul Pogba'),\n",
       "  Text(12, 0, 'Florian Wirtz'),\n",
       "  Text(13, 0, 'Nicolò Barella'),\n",
       "  Text(14, 0, 'Noa Lang'),\n",
       "  Text(15, 0, 'Andrej Kramaric'),\n",
       "  Text(16, 0, 'Umar Sadiq'),\n",
       "  Text(17, 0, 'Antony'),\n",
       "  Text(18, 0, 'Mohamed Salah'),\n",
       "  Text(19, 0, 'Amine Gouiri')])"
      ]
     },
     "execution_count": 183,
     "metadata": {},
     "output_type": "execute_result"
    },
    {
     "data": {
      "image/png": "[encoded data removed]",
      "text/plain": [
       "<Figure size 640x480 with 1 Axes>"
      ]
     },
     "metadata": {},
     "output_type": "display_data"
    }
   ],
   "source": [
    "sns.barplot(data=players, x='Name', y='Assists', order=top_assist_players.index)\n",
    "plt.title('Top 20 Goal Assists Players ')\n",
    "plt.xticks(rotation=90)"
   ]
  },
  {
   "cell_type": "code",
   "execution_count": 184,
   "id": "a5cc5612",
   "metadata": {},
   "outputs": [
    {
     "data": {
      "text/plain": [
       "<AxesSubplot:xlabel='Goals', ylabel='Assists'>"
      ]
     },
     "execution_count": 184,
     "metadata": {},
     "output_type": "execute_result"
    },
    {
     "data": {
      "image/png": "[encoded data removed]",
      "text/plain": [
       "<Figure size 640x480 with 1 Axes>"
      ]
     },
     "metadata": {},
     "output_type": "display_data"
    }
   ],
   "source": [
    "#Goals and Assists per game\n",
    "sns.boxplot(data=df_goal_ass, x='Goals', y='Assists')"
   ]
  },
  {
   "cell_type": "markdown",
   "id": "20e797d1",
   "metadata": {},
   "source": [
    "### Insights:\n",
    "- Robert Lewandowski was the top goal scorer with 23 goals, followed by Karim Adeyemi, Mohamed Salah, and Julián Álvarez \n",
    "    with 15 goals each. Sébastien Haller and Karim Benzema also level up 14 goals each.\n",
    "- Thomas Müller was the top goal assist with 12 goals, Kylian Mbappé (11 goals), Leroy Sané (10 goals), and Karim Benzema, \n",
    "    Cody Gakpo, Bruno Fernandes with 8 goals each."
   ]
  },
  {
   "cell_type": "markdown",
   "id": "3a6df982",
   "metadata": {},
   "source": [
    "#### 2. What are the most common player positions in the dataset?"
   ]
  },
  {
   "cell_type": "code",
   "execution_count": 185,
   "id": "2eed9e97",
   "metadata": {},
   "outputs": [
    {
     "data": {
      "text/plain": [
       "array(['Centre-Forward', 'Left Winger', 'Right Winger',\n",
       "       'Attacking Midfield', 'Central Midfield', 'Defensive Midfield',\n",
       "       'Right-Back', 'Centre-Back', 'Second Striker', 'Left-Back',\n",
       "       'Goalkeeper', 'Left Midfield', 'Right Midfield'], dtype=object)"
      ]
     },
     "execution_count": 185,
     "metadata": {},
     "output_type": "execute_result"
    }
   ],
   "source": [
    "players['Position'].unique()"
   ]
  },
  {
   "cell_type": "code",
   "execution_count": 186,
   "id": "69d28239",
   "metadata": {},
   "outputs": [],
   "source": [
    "x = players.Position.value_counts()"
   ]
  },
  {
   "cell_type": "code",
   "execution_count": 187,
   "id": "7a9458a9",
   "metadata": {},
   "outputs": [
    {
     "data": {
      "text/plain": [
       "([0, 1, 2, 3, 4, 5, 6, 7, 8, 9, 10, 11, 12],\n",
       " [Text(0, 0, ''),\n",
       "  Text(0, 0, ''),\n",
       "  Text(0, 0, ''),\n",
       "  Text(0, 0, ''),\n",
       "  Text(0, 0, ''),\n",
       "  Text(0, 0, ''),\n",
       "  Text(0, 0, ''),\n",
       "  Text(0, 0, ''),\n",
       "  Text(0, 0, ''),\n",
       "  Text(0, 0, ''),\n",
       "  Text(0, 0, ''),\n",
       "  Text(0, 0, ''),\n",
       "  Text(0, 0, '')])"
      ]
     },
     "execution_count": 187,
     "metadata": {},
     "output_type": "execute_result"
    },
    {
     "data": {
      "image/png": "[encoded data removed]",
      "text/plain": [
       "<Figure size 640x480 with 1 Axes>"
      ]
     },
     "metadata": {},
     "output_type": "display_data"
    }
   ],
   "source": [
    "sns.lineplot(data=x)\n",
    "plt.title('Most common Positions')\n",
    "plt.xticks(rotation=45)"
   ]
  },
  {
   "cell_type": "code",
   "execution_count": 191,
   "id": "eb32aad8",
   "metadata": {},
   "outputs": [
    {
     "data": {
      "text/plain": [
       "Centre-Back           87\n",
       "Central Midfield      74\n",
       "Centre-Forward        70\n",
       "Right Winger          48\n",
       "Left Winger           46\n",
       "Attacking Midfield    41\n",
       "Defensive Midfield    41\n",
       "Right-Back            30\n",
       "Left-Back             23\n",
       "Goalkeeper            19\n",
       "Second Striker         8\n",
       "Left Midfield          8\n",
       "Right Midfield         5\n",
       "Name: Position, dtype: int64"
      ]
     },
     "execution_count": 191,
     "metadata": {},
     "output_type": "execute_result"
    }
   ],
   "source": [
    "players.Position.value_counts().sort_values(ascending=False)"
   ]
  },
  {
   "cell_type": "markdown",
   "id": "8fb28a4f",
   "metadata": {},
   "source": [
    "#### 3. What is the distribution of player ages in the dataset?"
   ]
  },
  {
   "cell_type": "code",
   "execution_count": 192,
   "id": "5968c133",
   "metadata": {},
   "outputs": [
    {
     "data": {
      "text/plain": [
       "Text(0.5, 1.0, 'Distribution of Player Ages')"
      ]
     },
     "execution_count": 192,
     "metadata": {},
     "output_type": "execute_result"
    },
    {
     "data": {
      "image/png": "[encoded data removed]",
      "text/plain": [
       "<Figure size 640x480 with 1 Axes>"
      ]
     },
     "metadata": {},
     "output_type": "display_data"
    }
   ],
   "source": [
    "# Distribuution of players ages in the dataset\n",
    "sns.histplot(data=players, x='Age', kde=True)\n",
    "plt.title('Distribution of Player Ages')"
   ]
  },
  {
   "cell_type": "markdown",
   "id": "a14362ab",
   "metadata": {},
   "source": [
    "- The histogram shows an average mean age of 25 years and a max age of 36 years.\n",
    "- The youngest player(s) is 18 years old"
   ]
  },
  {
   "cell_type": "markdown",
   "id": "5bda5d2c",
   "metadata": {},
   "source": [
    "#### 4. What is the distribution of player market values?"
   ]
  },
  {
   "cell_type": "code",
   "execution_count": 193,
   "id": "723053e3",
   "metadata": {},
   "outputs": [
    {
     "data": {
      "text/plain": [
       "<AxesSubplot:xlabel='Market_value', ylabel='Count'>"
      ]
     },
     "execution_count": 193,
     "metadata": {},
     "output_type": "execute_result"
    },
    {
     "data": {
      "image/png": "[encoded data removed]",
      "text/plain": [
       "<Figure size 640x480 with 1 Axes>"
      ]
     },
     "metadata": {},
     "output_type": "display_data"
    }
   ],
   "source": [
    "sns.histplot(data=players, x='Market_value', kde=True)"
   ]
  },
  {
   "cell_type": "code",
   "execution_count": 194,
   "id": "b862b747",
   "metadata": {},
   "outputs": [
    {
     "data": {
      "text/plain": [
       "Position\n",
       "Centre-Back           2557\n",
       "Central Midfield      2401\n",
       "Centre-Forward        2348\n",
       "Left Winger           1632\n",
       "Right Winger          1447\n",
       "Attacking Midfield    1324\n",
       "Defensive Midfield    1263\n",
       "Right-Back             777\n",
       "Left-Back              697\n",
       "Goalkeeper             582\n",
       "Second Striker         279\n",
       "Left Midfield          213\n",
       "Right Midfield         105\n",
       "Name: Market_value, dtype: int32"
      ]
     },
     "execution_count": 194,
     "metadata": {},
     "output_type": "execute_result"
    }
   ],
   "source": [
    "#Market value grouped by position\n",
    "df = players.groupby('Position').Market_value.sum().sort_values(ascending=False)\n",
    "df"
   ]
  },
  {
   "cell_type": "code",
   "execution_count": 195,
   "id": "2d6f8c14",
   "metadata": {},
   "outputs": [
    {
     "data": {
      "text/plain": [
       "Text(0.5, 1.0, 'Line plot of Market Value by Position')"
      ]
     },
     "execution_count": 195,
     "metadata": {},
     "output_type": "execute_result"
    },
    {
     "data": {
      "image/png": "[encoded data removed]",
      "text/plain": [
       "<Figure size 640x480 with 1 Axes>"
      ]
     },
     "metadata": {},
     "output_type": "display_data"
    }
   ],
   "source": [
    "sns.lineplot(data=df)\n",
    "plt.xticks(rotation=45)\n",
    "plt.title('Line plot of Market Value by Position')"
   ]
  },
  {
   "cell_type": "markdown",
   "id": "19f7968a",
   "metadata": {},
   "source": [
    "- Midfielders in combined positions have more market value than other players positions"
   ]
  },
  {
   "cell_type": "markdown",
   "id": "0a99fd5f",
   "metadata": {},
   "source": [
    "#### 5. What are the nationalities of players in the dataset?"
   ]
  },
  {
   "cell_type": "code",
   "execution_count": 196,
   "id": "2667a60c",
   "metadata": {},
   "outputs": [
    {
     "data": {
      "text/plain": [
       "57"
      ]
     },
     "execution_count": 196,
     "metadata": {},
     "output_type": "execute_result"
    }
   ],
   "source": [
    "players['Country'].nunique()"
   ]
  },
  {
   "cell_type": "code",
   "execution_count": 198,
   "id": "6cd512f7",
   "metadata": {},
   "outputs": [
    {
     "data": {
      "text/plain": [
       "England          67\n",
       "France           58\n",
       "Spain            52\n",
       "Brazil           41\n",
       "Germany          29\n",
       "Portugal         26\n",
       "Italy            26\n",
       "Argentina        22\n",
       "Netherlands      17\n",
       "Belgium          14\n",
       "Uruguay          11\n",
       "Cote d'Ivoire     8\n",
       "Croatia           8\n",
       "Denmark           7\n",
       "Nigeria           7\n",
       "Name: Country, dtype: int64"
      ]
     },
     "execution_count": 198,
     "metadata": {},
     "output_type": "execute_result"
    }
   ],
   "source": [
    "players.Country.value_counts().head(15)"
   ]
  },
  {
   "cell_type": "code",
   "execution_count": 199,
   "id": "6c82d972",
   "metadata": {},
   "outputs": [
    {
     "data": {
      "text/plain": [
       "Country\n",
       "England          2227\n",
       "France           1878\n",
       "Spain            1556\n",
       "Brazil           1263\n",
       "Germany           999\n",
       "Portugal          881\n",
       "Italy             847\n",
       "Argentina         645\n",
       "Netherlands       565\n",
       "Belgium           519\n",
       "Uruguay           285\n",
       "Cote d'Ivoire     216\n",
       "Senegal           210\n",
       "Croatia           204\n",
       "Nigeria           198\n",
       "Name: Market_value, dtype: int32"
      ]
     },
     "execution_count": 199,
     "metadata": {},
     "output_type": "execute_result"
    }
   ],
   "source": [
    "players.groupby('Country').Market_value.sum().sort_values(ascending=False).head(15)"
   ]
  },
  {
   "cell_type": "code",
   "execution_count": 200,
   "id": "354ae597",
   "metadata": {},
   "outputs": [
    {
     "data": {
      "text/plain": [
       "Country\n",
       "Egypt           90.000000\n",
       "Korea, South    76.000000\n",
       "Slovenia        63.000000\n",
       "Norway          62.333333\n",
       "Slovakia        54.000000\n",
       "Canada          47.000000\n",
       "Morocco         37.250000\n",
       "Belgium         37.071429\n",
       "Ghana           36.000000\n",
       "Senegal         35.000000\n",
       "Germany         34.448276\n",
       "Portugal        33.884615\n",
       "England         33.238806\n",
       "Netherlands     33.235294\n",
       "Serbia          33.200000\n",
       "Name: Market_value, dtype: float64"
      ]
     },
     "execution_count": 200,
     "metadata": {},
     "output_type": "execute_result"
    }
   ],
   "source": [
    "players.groupby('Country').Market_value.mean().sort_values(ascending=False).head(15)"
   ]
  },
  {
   "cell_type": "markdown",
   "id": "c99f48af",
   "metadata": {},
   "source": [
    "- England top the countries with highest players in the competition. The top five countries with highest players \n",
    "    reperesntation include; \n",
    "    - England          67\n",
    "    - France           58\n",
    "    - Spain            52\n",
    "    - Brazil           41\n",
    "    - Germany          29\n",
    "- These countries are also the most valuabe nations by market value cap"
   ]
  },
  {
   "cell_type": "markdown",
   "id": "1899b453",
   "metadata": {},
   "source": [
    "#### 6. Which clubs are most represented in the dataset?"
   ]
  },
  {
   "cell_type": "code",
   "execution_count": 201,
   "id": "580db7b7",
   "metadata": {},
   "outputs": [
    {
     "data": {
      "text/plain": [
       "array(['Paris Saint-Germain', 'Borussia Dortmund', 'Tottenham Hotspur',\n",
       "       'Manchester City', 'Liverpool FC', 'Chelsea FC',\n",
       "       'Manchester United', 'FC Barcelona', 'Bayern Munich',\n",
       "       'Inter Milan', 'Atlético de Madrid', 'West Ham United',\n",
       "       'Real Sociedad', 'Juventus FC', 'SS Lazio', 'Real Madrid',\n",
       "       'Bayer 04 Leverkusen', 'Arsenal FC', 'Sevilla FC', 'SSC Napoli',\n",
       "       'Leicester City', 'Everton FC', 'AC Milan', 'Villarreal CF',\n",
       "       'ACF Fiorentina', 'RB Leipzig', 'AS Roma', 'Crystal Palace',\n",
       "       'Wolverhampton Wanderers', 'Valencia CF', 'Leeds United',\n",
       "       'LOSC Lille', 'Aston Villa', 'Olympique Lyon', 'OGC Nice',\n",
       "       'AS Monaco', 'Atalanta BC', 'US Sassuolo', 'Torino FC',\n",
       "       'Ajax Amsterdam', 'Brentford FC', 'Southampton FC',\n",
       "       'Newcastle United', 'VfL Wolfsburg', 'FC Porto',\n",
       "       'Olympique Marseille', 'Eintracht Frankfurt',\n",
       "       'Borussia Mönchengladbach', 'Watford FC', 'Stade Rennais FC',\n",
       "       'Clube de Regatas do Flamengo', 'VfB Stuttgart', 'Club Brugge KV',\n",
       "       'Sporting CP', 'Brighton & Hove Albion', 'Dynamo Kyiv',\n",
       "       'Athletic Bilbao', 'Real Betis Balompié', 'Zenit St. Petersburg',\n",
       "       'Burnley FC', 'SL Benfica', 'TSG 1899 Hoffenheim', 'Norwich City',\n",
       "       'PSV Eindhoven', 'KRC Genk', 'Club Atlético Vélez Sarsfield',\n",
       "       'Club Atlético River Plate', 'FC Metz', 'UC Sampdoria',\n",
       "       'Red Bull Salzburg', 'Bologna FC 1909', 'Shakhtar Donetsk',\n",
       "       'Cagliari Calcio', 'Getafe CF', 'Al-Rayyan SC', 'Rubin Kazan',\n",
       "       'Feyenoord Rotterdam', 'RCD Espanyol Barcelona', 'UD Almería',\n",
       "       'Sheffield United', 'Celta de Vigo'], dtype=object)"
      ]
     },
     "execution_count": 201,
     "metadata": {},
     "output_type": "execute_result"
    }
   ],
   "source": [
    "players['Club'].unique()"
   ]
  },
  {
   "cell_type": "code",
   "execution_count": 204,
   "id": "2b9d08e1",
   "metadata": {},
   "outputs": [
    {
     "data": {
      "text/plain": [
       "Manchester United      19\n",
       "Manchester City        18\n",
       "Paris Saint-Germain    16\n",
       "Tottenham Hotspur      16\n",
       "Chelsea FC             16\n",
       "Real Madrid            16\n",
       "Liverpool FC           15\n",
       "RB Leipzig             15\n",
       "Atlético de Madrid     15\n",
       "Arsenal FC             15\n",
       "Bayern Munich          14\n",
       "Juventus FC            13\n",
       "AC Milan               13\n",
       "Everton FC             13\n",
       "Atalanta BC            12\n",
       "Name: Club, dtype: int64"
      ]
     },
     "execution_count": 204,
     "metadata": {},
     "output_type": "execute_result"
    }
   ],
   "source": [
    "# Top 15 clubs\n",
    "top_15_clubs = players.Club.value_counts().head(15)\n",
    "top_15_clubs"
   ]
  },
  {
   "cell_type": "code",
   "execution_count": 205,
   "id": "0dad5eb3",
   "metadata": {},
   "outputs": [
    {
     "data": {
      "text/plain": [
       "(array([ 0,  1,  2,  3,  4,  5,  6,  7,  8,  9, 10, 11, 12, 13, 14]),\n",
       " [Text(0, 0, 'Manchester United'),\n",
       "  Text(1, 0, 'Manchester City'),\n",
       "  Text(2, 0, 'Paris Saint-Germain'),\n",
       "  Text(3, 0, 'Tottenham Hotspur'),\n",
       "  Text(4, 0, 'Chelsea FC'),\n",
       "  Text(5, 0, 'Real Madrid'),\n",
       "  Text(6, 0, 'Liverpool FC'),\n",
       "  Text(7, 0, 'RB Leipzig'),\n",
       "  Text(8, 0, 'Atlético de Madrid'),\n",
       "  Text(9, 0, 'Arsenal FC'),\n",
       "  Text(10, 0, 'Bayern Munich'),\n",
       "  Text(11, 0, 'Juventus FC'),\n",
       "  Text(12, 0, 'AC Milan'),\n",
       "  Text(13, 0, 'Everton FC'),\n",
       "  Text(14, 0, 'Atalanta BC')])"
      ]
     },
     "execution_count": 205,
     "metadata": {},
     "output_type": "execute_result"
    },
    {
     "data": {
      "image/png": "[encoded data removed]",
      "text/plain": [
       "<Figure size 640x480 with 1 Axes>"
      ]
     },
     "metadata": {},
     "output_type": "display_data"
    }
   ],
   "source": [
    "sns.countplot(data=players, x='Club', order=top_15_clubs.index)\n",
    "plt.title('Top 15 Clubs')\n",
    "plt.xticks(rotation=90)"
   ]
  },
  {
   "cell_type": "markdown",
   "id": "54b4aba4",
   "metadata": {},
   "source": [
    "- Manchester United (19), Manchester City (18), Paris Saint-Germain (16), Tottenham Hotspur (16), Chelsea FC (16), \n",
    "    and Real Madrid (16) represents top 6 clubs with higest representation of players."
   ]
  },
  {
   "cell_type": "code",
   "execution_count": 206,
   "id": "48e50a32",
   "metadata": {},
   "outputs": [],
   "source": [
    "# Most expensive club\n",
    "most_valuable_clubs = players.groupby('Club').Market_value.sum().sort_values(ascending=False).nlargest(15)"
   ]
  },
  {
   "cell_type": "code",
   "execution_count": 207,
   "id": "7acd3488",
   "metadata": {},
   "outputs": [
    {
     "data": {
      "text/plain": [
       "Club\n",
       "Manchester City        52.055556\n",
       "Bayern Munich          48.785714\n",
       "Paris Saint-Germain    48.250000\n",
       "Inter Milan            46.625000\n",
       "Liverpool FC           45.133333\n",
       "Chelsea FC             44.000000\n",
       "Atlético de Madrid     41.000000\n",
       "FC Barcelona           40.727273\n",
       "Manchester United      39.684211\n",
       "Borussia Dortmund      38.363636\n",
       "Real Madrid            36.875000\n",
       "SSC Napoli             35.100000\n",
       "Juventus FC            34.384615\n",
       "Sevilla FC             33.666667\n",
       "Tottenham Hotspur      33.125000\n",
       "Name: Market_value, dtype: float64"
      ]
     },
     "execution_count": 207,
     "metadata": {},
     "output_type": "execute_result"
    }
   ],
   "source": [
    "players.groupby('Club').Market_value.mean().sort_values(ascending=False).nlargest(15)"
   ]
  },
  {
   "cell_type": "code",
   "execution_count": 208,
   "id": "99f1e4ab",
   "metadata": {},
   "outputs": [
    {
     "data": {
      "text/plain": [
       "(array([ 0,  1,  2,  3,  4,  5,  6,  7,  8,  9, 10, 11, 12, 13, 14]),\n",
       " [Text(0, 0, 'Manchester City'),\n",
       "  Text(1, 0, 'Paris Saint-Germain'),\n",
       "  Text(2, 0, 'Manchester United'),\n",
       "  Text(3, 0, 'Chelsea FC'),\n",
       "  Text(4, 0, 'Bayern Munich'),\n",
       "  Text(5, 0, 'Liverpool FC'),\n",
       "  Text(6, 0, 'Atlético de Madrid'),\n",
       "  Text(7, 0, 'Real Madrid'),\n",
       "  Text(8, 0, 'Tottenham Hotspur'),\n",
       "  Text(9, 0, 'FC Barcelona'),\n",
       "  Text(10, 0, 'Juventus FC'),\n",
       "  Text(11, 0, 'Borussia Dortmund'),\n",
       "  Text(12, 0, 'Arsenal FC'),\n",
       "  Text(13, 0, 'Leicester City'),\n",
       "  Text(14, 0, 'RB Leipzig')])"
      ]
     },
     "execution_count": 208,
     "metadata": {},
     "output_type": "execute_result"
    },
    {
     "data": {
      "image/png": "[encoded data removed]",
      "text/plain": [
       "<Figure size 640x480 with 1 Axes>"
      ]
     },
     "metadata": {},
     "output_type": "display_data"
    }
   ],
   "source": [
    "sns.barplot(data=players, x= 'Club', y='Market_value', order=most_valuable_clubs.index)\n",
    "plt.title('Top 15 most valuable clubs by Market value')\n",
    "plt.xticks(rotation=90)"
   ]
  },
  {
   "cell_type": "markdown",
   "id": "355435bc",
   "metadata": {},
   "source": [
    "#### 7. How many matches have players participated in on average?"
   ]
  },
  {
   "cell_type": "code",
   "execution_count": 209,
   "id": "b7da47fa",
   "metadata": {},
   "outputs": [
    {
     "data": {
      "text/plain": [
       "Name\n",
       "Sofiane Diop            24\n",
       "Karim Adeyemi           22\n",
       "Tetê                    22\n",
       "Benoît Badiashile       22\n",
       "Charles De Ketelaere    21\n",
       "Éverton                 20\n",
       "Dodô                    20\n",
       "Wendel                  20\n",
       "Paul Onuachu            20\n",
       "William Saliba          20\n",
       "Eduardo Camavinga       20\n",
       "Wissam Ben Yedder       20\n",
       "Aurélien Tchouaméni     20\n",
       "Rafa Silva              20\n",
       "Manor Solomon           20\n",
       "Sandro Tonali           20\n",
       "Kevin Volland           20\n",
       "Viktor Tsygankov        20\n",
       "André Silva             19\n",
       "Cody Gakpo              19\n",
       "Name: Matches, dtype: int64"
      ]
     },
     "execution_count": 209,
     "metadata": {},
     "output_type": "execute_result"
    }
   ],
   "source": [
    "# matches played\n",
    "\n",
    "matches_played = players.groupby('Name').Matches.sum().sort_values(ascending=False).head(20)\n",
    "matches_played"
   ]
  },
  {
   "cell_type": "markdown",
   "id": "18eaeca8",
   "metadata": {},
   "source": [
    "- Sofiane Diop has the higest number of matches played (24), followed by Karim Adeyemi, Tetê, and Benoît Badiashile \n",
    "    with 22 matches played eached, Charles De Ketelaere with 21 matches played."
   ]
  },
  {
   "cell_type": "code",
   "execution_count": 210,
   "id": "431862a3",
   "metadata": {},
   "outputs": [
    {
     "data": {
      "text/plain": [
       "Name\n",
       "Sofiane Diop            24.0\n",
       "Karim Adeyemi           22.0\n",
       "Tetê                    22.0\n",
       "Benoît Badiashile       22.0\n",
       "Charles De Ketelaere    21.0\n",
       "Éverton                 20.0\n",
       "Dodô                    20.0\n",
       "Wendel                  20.0\n",
       "Paul Onuachu            20.0\n",
       "William Saliba          20.0\n",
       "Eduardo Camavinga       20.0\n",
       "Wissam Ben Yedder       20.0\n",
       "Aurélien Tchouaméni     20.0\n",
       "Rafa Silva              20.0\n",
       "Manor Solomon           20.0\n",
       "Sandro Tonali           20.0\n",
       "Kevin Volland           20.0\n",
       "Viktor Tsygankov        20.0\n",
       "André Silva             19.0\n",
       "Cody Gakpo              19.0\n",
       "Name: Matches, dtype: float64"
      ]
     },
     "execution_count": 210,
     "metadata": {},
     "output_type": "execute_result"
    }
   ],
   "source": [
    "mean_match_played = players.groupby('Name').Matches.mean().sort_values(ascending=False).head(20)\n",
    "mean_match_played"
   ]
  },
  {
   "cell_type": "markdown",
   "id": "42863ce3",
   "metadata": {},
   "source": [
    "#### 8. What is the distribution of goals scored by players?"
   ]
  },
  {
   "cell_type": "code",
   "execution_count": 211,
   "id": "c75316b9",
   "metadata": {},
   "outputs": [
    {
     "data": {
      "text/plain": [
       "Text(0.5, 1.0, 'Distribution of Goals by Players')"
      ]
     },
     "execution_count": 211,
     "metadata": {},
     "output_type": "execute_result"
    },
    {
     "data": {
      "image/png": "[encoded data removed]",
      "text/plain": [
       "<Figure size 640x480 with 1 Axes>"
      ]
     },
     "metadata": {},
     "output_type": "display_data"
    }
   ],
   "source": [
    "sns.histplot(data=players, x='Goals', kde=True)\n",
    "plt.title('Distribution of Goals by Players')"
   ]
  },
  {
   "cell_type": "markdown",
   "id": "631ba92e",
   "metadata": {},
   "source": [
    "#### 9. What is the distribution of assists provided by players?"
   ]
  },
  {
   "cell_type": "code",
   "execution_count": 212,
   "id": "d9d637df",
   "metadata": {},
   "outputs": [
    {
     "data": {
      "text/plain": [
       "<AxesSubplot:xlabel='Assists', ylabel='Count'>"
      ]
     },
     "execution_count": 212,
     "metadata": {},
     "output_type": "execute_result"
    },
    {
     "data": {
      "image/png": "[encoded data removed]",
      "text/plain": [
       "<Figure size 640x480 with 1 Axes>"
      ]
     },
     "metadata": {},
     "output_type": "display_data"
    }
   ],
   "source": [
    "sns.histplot(data=players, x='Assists', kde=True)"
   ]
  },
  {
   "cell_type": "markdown",
   "id": "6424a753",
   "metadata": {},
   "source": [
    "#### 10. How many yellow and red cards have players received on average?"
   ]
  },
  {
   "cell_type": "code",
   "execution_count": 213,
   "id": "c71ce880",
   "metadata": {},
   "outputs": [
    {
     "data": {
      "text/plain": [
       "Index(['Name', 'Position', 'Age', 'Market_value', 'Country', 'Club', 'Matches',\n",
       "       'Goals', 'Own_goals', 'Assists', 'Yellow_cards', 'Second_yellow_cards',\n",
       "       'Red_cards', 'Substitute_in', 'Substitute_out', 'Goals_per_game',\n",
       "       'Assists_per_game'],\n",
       "      dtype='object')"
      ]
     },
     "execution_count": 213,
     "metadata": {},
     "output_type": "execute_result"
    }
   ],
   "source": [
    "players.columns"
   ]
  },
  {
   "cell_type": "code",
   "execution_count": 214,
   "id": "02dcc18b",
   "metadata": {},
   "outputs": [
    {
     "data": {
      "text/html": [
       "<div>\n",
       "<style scoped>\n",
       "    .dataframe tbody tr th:only-of-type {\n",
       "        vertical-align: middle;\n",
       "    }\n",
       "\n",
       "    .dataframe tbody tr th {\n",
       "        vertical-align: top;\n",
       "    }\n",
       "\n",
       "    .dataframe thead th {\n",
       "        text-align: right;\n",
       "    }\n",
       "</style>\n",
       "<table border=\"1\" class=\"dataframe\">\n",
       "  <thead>\n",
       "    <tr style=\"text-align: right;\">\n",
       "      <th></th>\n",
       "      <th>Name</th>\n",
       "      <th>Position</th>\n",
       "      <th>Age</th>\n",
       "      <th>Market_value</th>\n",
       "      <th>Country</th>\n",
       "      <th>Club</th>\n",
       "      <th>Matches</th>\n",
       "      <th>Goals</th>\n",
       "      <th>Own_goals</th>\n",
       "      <th>Assists</th>\n",
       "      <th>Yellow_cards</th>\n",
       "      <th>Second_yellow_cards</th>\n",
       "      <th>Red_cards</th>\n",
       "      <th>Substitute_in</th>\n",
       "      <th>Substitute_out</th>\n",
       "      <th>Goals_per_game</th>\n",
       "      <th>Assists_per_game</th>\n",
       "      <th>Total_yellow_cards</th>\n",
       "    </tr>\n",
       "  </thead>\n",
       "  <tbody>\n",
       "    <tr>\n",
       "      <th>0</th>\n",
       "      <td>Kylian Mbappé</td>\n",
       "      <td>Centre-Forward</td>\n",
       "      <td>22</td>\n",
       "      <td>144</td>\n",
       "      <td>France</td>\n",
       "      <td>Paris Saint-Germain</td>\n",
       "      <td>16</td>\n",
       "      <td>7</td>\n",
       "      <td>0</td>\n",
       "      <td>11</td>\n",
       "      <td>3</td>\n",
       "      <td>0</td>\n",
       "      <td>0</td>\n",
       "      <td>0</td>\n",
       "      <td>8</td>\n",
       "      <td>0.44</td>\n",
       "      <td>0.69</td>\n",
       "      <td>3</td>\n",
       "    </tr>\n",
       "    <tr>\n",
       "      <th>1</th>\n",
       "      <td>Erling Haaland</td>\n",
       "      <td>Centre-Forward</td>\n",
       "      <td>21</td>\n",
       "      <td>135</td>\n",
       "      <td>Norway</td>\n",
       "      <td>Borussia Dortmund</td>\n",
       "      <td>10</td>\n",
       "      <td>13</td>\n",
       "      <td>0</td>\n",
       "      <td>4</td>\n",
       "      <td>1</td>\n",
       "      <td>0</td>\n",
       "      <td>0</td>\n",
       "      <td>0</td>\n",
       "      <td>1</td>\n",
       "      <td>1.30</td>\n",
       "      <td>0.40</td>\n",
       "      <td>1</td>\n",
       "    </tr>\n",
       "    <tr>\n",
       "      <th>2</th>\n",
       "      <td>Harry Kane</td>\n",
       "      <td>Centre-Forward</td>\n",
       "      <td>28</td>\n",
       "      <td>108</td>\n",
       "      <td>England</td>\n",
       "      <td>Tottenham Hotspur</td>\n",
       "      <td>16</td>\n",
       "      <td>7</td>\n",
       "      <td>0</td>\n",
       "      <td>2</td>\n",
       "      <td>2</td>\n",
       "      <td>0</td>\n",
       "      <td>0</td>\n",
       "      <td>2</td>\n",
       "      <td>2</td>\n",
       "      <td>0.44</td>\n",
       "      <td>0.12</td>\n",
       "      <td>2</td>\n",
       "    </tr>\n",
       "    <tr>\n",
       "      <th>3</th>\n",
       "      <td>Jack Grealish</td>\n",
       "      <td>Left Winger</td>\n",
       "      <td>26</td>\n",
       "      <td>90</td>\n",
       "      <td>England</td>\n",
       "      <td>Manchester City</td>\n",
       "      <td>15</td>\n",
       "      <td>2</td>\n",
       "      <td>0</td>\n",
       "      <td>3</td>\n",
       "      <td>1</td>\n",
       "      <td>0</td>\n",
       "      <td>0</td>\n",
       "      <td>2</td>\n",
       "      <td>8</td>\n",
       "      <td>0.13</td>\n",
       "      <td>0.20</td>\n",
       "      <td>1</td>\n",
       "    </tr>\n",
       "    <tr>\n",
       "      <th>4</th>\n",
       "      <td>Mohamed Salah</td>\n",
       "      <td>Right Winger</td>\n",
       "      <td>29</td>\n",
       "      <td>90</td>\n",
       "      <td>Egypt</td>\n",
       "      <td>Liverpool FC</td>\n",
       "      <td>15</td>\n",
       "      <td>15</td>\n",
       "      <td>0</td>\n",
       "      <td>6</td>\n",
       "      <td>1</td>\n",
       "      <td>0</td>\n",
       "      <td>0</td>\n",
       "      <td>0</td>\n",
       "      <td>3</td>\n",
       "      <td>1.00</td>\n",
       "      <td>0.40</td>\n",
       "      <td>1</td>\n",
       "    </tr>\n",
       "  </tbody>\n",
       "</table>\n",
       "</div>"
      ],
      "text/plain": [
       "             Name        Position  Age  Market_value  Country  \\\n",
       "0   Kylian Mbappé  Centre-Forward   22           144   France   \n",
       "1  Erling Haaland  Centre-Forward   21           135   Norway   \n",
       "2      Harry Kane  Centre-Forward   28           108  England   \n",
       "3   Jack Grealish     Left Winger   26            90  England   \n",
       "4   Mohamed Salah    Right Winger   29            90    Egypt   \n",
       "\n",
       "                  Club  Matches  Goals  Own_goals  Assists  Yellow_cards  \\\n",
       "0  Paris Saint-Germain       16      7          0       11             3   \n",
       "1    Borussia Dortmund       10     13          0        4             1   \n",
       "2    Tottenham Hotspur       16      7          0        2             2   \n",
       "3      Manchester City       15      2          0        3             1   \n",
       "4         Liverpool FC       15     15          0        6             1   \n",
       "\n",
       "   Second_yellow_cards  Red_cards  Substitute_in  Substitute_out  \\\n",
       "0                    0          0              0               8   \n",
       "1                    0          0              0               1   \n",
       "2                    0          0              2               2   \n",
       "3                    0          0              2               8   \n",
       "4                    0          0              0               3   \n",
       "\n",
       "   Goals_per_game  Assists_per_game  Total_yellow_cards  \n",
       "0            0.44              0.69                   3  \n",
       "1            1.30              0.40                   1  \n",
       "2            0.44              0.12                   2  \n",
       "3            0.13              0.20                   1  \n",
       "4            1.00              0.40                   1  "
      ]
     },
     "execution_count": 214,
     "metadata": {},
     "output_type": "execute_result"
    }
   ],
   "source": [
    "#total yellow cards\n",
    "\n",
    "players['Total_yellow_cards'] = players.Yellow_cards + players.Second_yellow_cards\n",
    "players.head()"
   ]
  },
  {
   "cell_type": "code",
   "execution_count": 215,
   "id": "67efe781",
   "metadata": {},
   "outputs": [
    {
     "data": {
      "text/plain": [
       "Name\n",
       "Moussa Diaby           7\n",
       "Noa Lang               7\n",
       "Cristian Romero        6\n",
       "Gavi                   6\n",
       "Benoît Badiashile      6\n",
       "Tyler Adams            5\n",
       "João Palhinha          5\n",
       "Luke Shaw              5\n",
       "Jordan Veretout        5\n",
       "Renato Tapia           5\n",
       "Pedro Porro            5\n",
       "Max Aarons             5\n",
       "Umar Sadiq             5\n",
       "James Tarkowski        5\n",
       "Nabil Fekir            5\n",
       "Dayot Upamecano        5\n",
       "Eduardo Camavinga      5\n",
       "Gianluca Mancini       5\n",
       "Kevin Volland          5\n",
       "Aurélien Tchouaméni    5\n",
       "Name: Total_yellow_cards, dtype: int64"
      ]
     },
     "execution_count": 215,
     "metadata": {},
     "output_type": "execute_result"
    }
   ],
   "source": [
    "total_yellow = players.groupby('Name').Total_yellow_cards.sum().sort_values(ascending=False).head(20)\n",
    "total_yellow"
   ]
  },
  {
   "cell_type": "code",
   "execution_count": 216,
   "id": "c5af381c",
   "metadata": {},
   "outputs": [
    {
     "data": {
      "text/plain": [
       "Name\n",
       "Moussa Diaby           7.0\n",
       "Noa Lang               7.0\n",
       "Cristian Romero        6.0\n",
       "Gavi                   6.0\n",
       "Benoît Badiashile      6.0\n",
       "Tyler Adams            5.0\n",
       "João Palhinha          5.0\n",
       "Luke Shaw              5.0\n",
       "Jordan Veretout        5.0\n",
       "Renato Tapia           5.0\n",
       "Pedro Porro            5.0\n",
       "Max Aarons             5.0\n",
       "Umar Sadiq             5.0\n",
       "James Tarkowski        5.0\n",
       "Nabil Fekir            5.0\n",
       "Dayot Upamecano        5.0\n",
       "Eduardo Camavinga      5.0\n",
       "Gianluca Mancini       5.0\n",
       "Kevin Volland          5.0\n",
       "Aurélien Tchouaméni    5.0\n",
       "Name: Total_yellow_cards, dtype: float64"
      ]
     },
     "execution_count": 216,
     "metadata": {},
     "output_type": "execute_result"
    }
   ],
   "source": [
    "total_yellow_avg = players.groupby('Name').Total_yellow_cards.mean().sort_values(ascending=False).nlargest(20)\n",
    "total_yellow_avg"
   ]
  },
  {
   "cell_type": "code",
   "execution_count": 217,
   "id": "1259fa2d",
   "metadata": {},
   "outputs": [
    {
     "data": {
      "text/plain": [
       "(array([ 0,  1,  2,  3,  4,  5,  6,  7,  8,  9, 10, 11, 12, 13, 14, 15, 16,\n",
       "        17, 18, 19]),\n",
       " [Text(0, 0, 'Moussa Diaby'),\n",
       "  Text(1, 0, 'Noa Lang'),\n",
       "  Text(2, 0, 'Cristian Romero'),\n",
       "  Text(3, 0, 'Gavi'),\n",
       "  Text(4, 0, 'Benoît Badiashile'),\n",
       "  Text(5, 0, 'Tyler Adams'),\n",
       "  Text(6, 0, 'João Palhinha'),\n",
       "  Text(7, 0, 'Luke Shaw'),\n",
       "  Text(8, 0, 'Jordan Veretout'),\n",
       "  Text(9, 0, 'Renato Tapia'),\n",
       "  Text(10, 0, 'Pedro Porro'),\n",
       "  Text(11, 0, 'Max Aarons'),\n",
       "  Text(12, 0, 'Umar Sadiq'),\n",
       "  Text(13, 0, 'James Tarkowski'),\n",
       "  Text(14, 0, 'Nabil Fekir'),\n",
       "  Text(15, 0, 'Dayot Upamecano'),\n",
       "  Text(16, 0, 'Eduardo Camavinga'),\n",
       "  Text(17, 0, 'Gianluca Mancini'),\n",
       "  Text(18, 0, 'Kevin Volland'),\n",
       "  Text(19, 0, 'Aurélien Tchouaméni')])"
      ]
     },
     "execution_count": 217,
     "metadata": {},
     "output_type": "execute_result"
    },
    {
     "data": {
      "image/png": "[encoded data removed]",
      "text/plain": [
       "<Figure size 640x480 with 1 Axes>"
      ]
     },
     "metadata": {},
     "output_type": "display_data"
    }
   ],
   "source": [
    "sns.barplot(data=players, x='Name', y='Total_yellow_cards', order=total_yellow_avg.index)\n",
    "plt.title('Average Yellow Cards Per Player')\n",
    "plt.xticks(rotation=90)"
   ]
  },
  {
   "cell_type": "code",
   "execution_count": 218,
   "id": "f53d3597",
   "metadata": {},
   "outputs": [
    {
     "data": {
      "text/plain": [
       "Name\n",
       "James Ward-Prowse    1\n",
       "Maxence Lacroix      1\n",
       "Victor Osimhen       1\n",
       "Antoine Griezmann    1\n",
       "Aymeric Laporte      1\n",
       "Ayoze Pérez          1\n",
       "Mario Hermoso        1\n",
       "Benjamin Pavard      1\n",
       "Mason Holgate        1\n",
       "Sardar Azmoun        1\n",
       "Kalidou Koulibaly    1\n",
       "Moise Kean           1\n",
       "Nabil Fekir          1\n",
       "Granit Xhaka         1\n",
       "Gavi                 1\n",
       "Reece James          1\n",
       "Paul Pogba           1\n",
       "Eric García          1\n",
       "Luiz Felipe          1\n",
       "Ezri Konsa           1\n",
       "Name: Red_cards, dtype: int64"
      ]
     },
     "execution_count": 218,
     "metadata": {},
     "output_type": "execute_result"
    }
   ],
   "source": [
    "# Total red cards\n",
    "total_red_cards = players.groupby('Name').Red_cards.sum().sort_values(ascending=False).head(20)\n",
    "total_red_cards"
   ]
  },
  {
   "cell_type": "code",
   "execution_count": 219,
   "id": "e740f88b",
   "metadata": {},
   "outputs": [
    {
     "data": {
      "text/plain": [
       "Name\n",
       "James Ward-Prowse    1.0\n",
       "Maxence Lacroix      1.0\n",
       "Victor Osimhen       1.0\n",
       "Antoine Griezmann    1.0\n",
       "Aymeric Laporte      1.0\n",
       "Ayoze Pérez          1.0\n",
       "Mario Hermoso        1.0\n",
       "Benjamin Pavard      1.0\n",
       "Mason Holgate        1.0\n",
       "Sardar Azmoun        1.0\n",
       "Kalidou Koulibaly    1.0\n",
       "Moise Kean           1.0\n",
       "Nabil Fekir          1.0\n",
       "Granit Xhaka         1.0\n",
       "Gavi                 1.0\n",
       "Reece James          1.0\n",
       "Paul Pogba           1.0\n",
       "Eric García          1.0\n",
       "Luiz Felipe          1.0\n",
       "Ezri Konsa           1.0\n",
       "Name: Red_cards, dtype: float64"
      ]
     },
     "execution_count": 219,
     "metadata": {},
     "output_type": "execute_result"
    }
   ],
   "source": [
    "mean_red_cards = players.groupby('Name').Red_cards.mean().sort_values(ascending=False).head(20)\n",
    "mean_red_cards"
   ]
  },
  {
   "cell_type": "markdown",
   "id": "66e37186",
   "metadata": {},
   "source": [
    "#### 11. How many own goals have players scored on average?"
   ]
  },
  {
   "cell_type": "code",
   "execution_count": 220,
   "id": "b363cc0b",
   "metadata": {},
   "outputs": [
    {
     "data": {
      "text/plain": [
       "Name\n",
       "Éverton               1\n",
       "Lucas Digne           1\n",
       "Fikayo Tomori         1\n",
       "Fred                  1\n",
       "Nuno Mendes           1\n",
       "Nordi Mukiele         1\n",
       "Héctor Bellerín       1\n",
       "Max Aarons            1\n",
       "Stefan Savic          1\n",
       "Eric Dier             1\n",
       "Takehiro Tomiyasu     1\n",
       "John Stones           1\n",
       "Tomas Soucek          1\n",
       "Alisson               1\n",
       "Stefan de Vrij        1\n",
       "Lorenzo Pellegrini    0\n",
       "Nicolò Barella        0\n",
       "Nicolás De La Cruz    0\n",
       "Nicolas Pépé          0\n",
       "Nico Elvedi           0\n",
       "Name: Own_goals, dtype: int64"
      ]
     },
     "execution_count": 220,
     "metadata": {},
     "output_type": "execute_result"
    }
   ],
   "source": [
    "players.groupby('Name').Own_goals.sum().sort_values(ascending=False).head(20)"
   ]
  },
  {
   "cell_type": "code",
   "execution_count": 221,
   "id": "b3b171b5",
   "metadata": {},
   "outputs": [
    {
     "data": {
      "text/plain": [
       "Name\n",
       "Éverton               1.0\n",
       "Lucas Digne           1.0\n",
       "Fikayo Tomori         1.0\n",
       "Fred                  1.0\n",
       "Nuno Mendes           1.0\n",
       "Nordi Mukiele         1.0\n",
       "Héctor Bellerín       1.0\n",
       "Max Aarons            1.0\n",
       "Stefan Savic          1.0\n",
       "Eric Dier             1.0\n",
       "Takehiro Tomiyasu     1.0\n",
       "John Stones           1.0\n",
       "Tomas Soucek          1.0\n",
       "Alisson               1.0\n",
       "Stefan de Vrij        1.0\n",
       "Lorenzo Pellegrini    0.0\n",
       "Nicolò Barella        0.0\n",
       "Nicolás De La Cruz    0.0\n",
       "Nicolas Pépé          0.0\n",
       "Nico Elvedi           0.0\n",
       "Name: Own_goals, dtype: float64"
      ]
     },
     "execution_count": 221,
     "metadata": {},
     "output_type": "execute_result"
    }
   ],
   "source": [
    "avg_own_goals = players.groupby('Name').Own_goals.mean().sort_values(ascending=False).head(20)\n",
    "avg_own_goals"
   ]
  },
  {
   "cell_type": "markdown",
   "id": "f6b94b28",
   "metadata": {},
   "source": [
    "- There is a maximum of 1 own goal scored by players on average"
   ]
  },
  {
   "cell_type": "markdown",
   "id": "f3dbbdb8",
   "metadata": {},
   "source": [
    "#### Thank you !"
   ]
  }
 ],
 "metadata": {
  "kernelspec": {
   "display_name": "Python 3 (ipykernel)",
   "language": "python",
   "name": "python3"
  },
  "language_info": {
   "codemirror_mode": {
    "name": "ipython",
    "version": 3
   },
   "file_extension": ".py",
   "mimetype": "text/x-python",
   "name": "python",
   "nbconvert_exporter": "python",
   "pygments_lexer": "ipython3",
   "version": "3.9.13"
  }
 },
 "nbformat": 4,
 "nbformat_minor": 5
}
